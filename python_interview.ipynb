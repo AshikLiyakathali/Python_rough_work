{
 "cells": [
  {
   "cell_type": "code",
   "execution_count": 2,
   "id": "58c4aadd",
   "metadata": {},
   "outputs": [
    {
     "name": "stdout",
     "output_type": "stream",
     "text": [
      "The output is ( 2 , 3 )\n",
      "The output is ( 1 , 2 )\n",
      "The output is ( 0 , 1 )\n",
      "The target value is not in this list\n"
     ]
    }
   ],
   "source": [
    "# Function that finds if sum of two numbers in a list matches the target value provided\n",
    "# Assuming that there is only one option in the list that matches the target value\n",
    "\n",
    "def target_in_list(input_list, target_value):    \n",
    "    flag = None\n",
    "\n",
    "    for i in range(len(input_list)):\n",
    "        for j in range(len(input_list)):\n",
    "            if i == j:\n",
    "                continue\n",
    "\n",
    "            if (input_list[i] + input_list[j]) == target_value:\n",
    "                flag = 1\n",
    "                print(\"The output is (\", i, \",\", j ,\")\")\n",
    "                break\n",
    "                \n",
    "        if flag == 1:\n",
    "            break\n",
    "            \n",
    "    if flag == None:\n",
    "        print(\"The target value is not in this list\")\n",
    "                  \n",
    "target_in_list([2,7,11,15], 26)\n",
    "target_in_list([1,2,3], 5)\n",
    "target_in_list([3,3], 6)\n",
    "target_in_list([3,3], 7)\n"
   ]
  },
  {
   "cell_type": "code",
   "execution_count": 3,
   "id": "29ff4b5a",
   "metadata": {},
   "outputs": [],
   "source": [
    "import os\n",
    "\n",
    "# input a file\n",
    "# return frequency of words \n",
    "\n",
    "file_obj = open(\"dummy_text.txt\", \"w\")\n",
    "\n",
    "file_obj.write(\"Dummy Text:\\n\")\n",
    "\n",
    "file_obj.close()\n",
    "\n",
    "\n",
    "\n",
    "\n",
    "# def frequency_words(filename):\n",
    "    \n",
    "#     file_obj = open(filename, 'r')\n",
    "    \n",
    "#     words = file_obj.reads()\n",
    "    \n",
    "#     word_list = words.split(\" \")\n",
    "    \n",
    "#     unique_words = set(word_list)\n",
    "    \n",
    "#     freq_dict = {}\n",
    "    \n",
    "#     for word in unique_words:\n",
    "#         count = 0\n",
    "#         for item in word_list:\n",
    "#             if word.upper() == item.upper():\n",
    "#                 count +=1\n",
    "        \n",
    "#         freq_dict[word] = count\n",
    "    \n",
    "#     return freq_dict"
   ]
  },
  {
   "cell_type": "code",
   "execution_count": null,
   "id": "b81c380d",
   "metadata": {},
   "outputs": [],
   "source": []
  }
 ],
 "metadata": {
  "kernelspec": {
   "display_name": "Python 3 (ipykernel)",
   "language": "python",
   "name": "python3"
  },
  "language_info": {
   "codemirror_mode": {
    "name": "ipython",
    "version": 3
   },
   "file_extension": ".py",
   "mimetype": "text/x-python",
   "name": "python",
   "nbconvert_exporter": "python",
   "pygments_lexer": "ipython3",
   "version": "3.9.7"
  }
 },
 "nbformat": 4,
 "nbformat_minor": 5
}
