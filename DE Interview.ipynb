{
 "cells": [
  {
   "cell_type": "code",
   "execution_count": 24,
   "id": "1bbc71c1",
   "metadata": {},
   "outputs": [
    {
     "name": "stdout",
     "output_type": "stream",
     "text": [
      "Enter a String: this is a string\n",
      "Character:  t \t Number of Occurrences:  2 \n",
      "\n",
      "Character:  h \t Number of Occurrences:  1 \n",
      "\n",
      "Character:  i \t Number of Occurrences:  3 \n",
      "\n",
      "Character:  s \t Number of Occurrences:  3 \n",
      "\n",
      "Character:  a \t Number of Occurrences:  1 \n",
      "\n",
      "Character:  r \t Number of Occurrences:  1 \n",
      "\n",
      "Character:  n \t Number of Occurrences:  1 \n",
      "\n",
      "Character:  g \t Number of Occurrences:  1 \n",
      "\n"
     ]
    }
   ],
   "source": [
    "# Count occurrences\n",
    "\n",
    "# You are given a particular string S, which contains only lowercase English alphabets. \n",
    "# Your task is to calculate all the occurrences of the character and print the character in the order in \n",
    "# which it appears in the string S followed by the number of occurrences.\n",
    "# Each character should appear only once in the output.\n",
    "\n",
    "# Input format\n",
    "# •   The first line contains an integer, T, denoting the number of test cases.\n",
    "# •   Next T lines contain string S each.\n",
    "\n",
    "# Output format\n",
    "# For each test case, print the output in a new line.\n",
    "# Constraints\n",
    "# 1≤T≤1000\n",
    "# 1≤|S|≤1000 where S denotes the length of the string.\n",
    "\n",
    "\n",
    "input_str = input(\"Enter a String: \")\n",
    "\n",
    "str_length = len(input_str)\n",
    "\n",
    "if str_length >= 1 and str_length <= 1000:\n",
    "    str_list = list(input_str)\n",
    "\n",
    "    special_char_list = [\".\", \",\", \"<\", \">\", \"?\", \"\\\"\", \"\\'\", \"!\", \"$\", \"@\", \"#\", \"%\", \"^\", \n",
    "                         \"&\", \"*\", \"-\", \"_\", \":\", \";\", \"(\", \")\",\"[\", \"]\", \"{\", \"}\", \"|\"]\n",
    "    \n",
    "    uniq_list = []\n",
    "\n",
    "    for char in str_list:\n",
    "        if char == \" \" or char in special_char_list:\n",
    "            continue\n",
    "\n",
    "        if char not in uniq_list:\n",
    "            uniq_list.append(char)\n",
    "    \n",
    "\n",
    "    for char in uniq_list:\n",
    "        count = 0\n",
    "\n",
    "        for chars in str_list:\n",
    "            if char == chars:\n",
    "                count += 1\n",
    "        \n",
    "        print(\"Character: \", char, \"\\t\", \"Number of Occurrences: \", count, \"\\n\")\n",
    "\n",
    "else:\n",
    "    print(\"The length of the input string should be between 1 to 1000\")\n",
    "\n"
   ]
  },
  {
   "cell_type": "code",
   "execution_count": null,
   "id": "2a8f7e22",
   "metadata": {},
   "outputs": [],
   "source": []
  }
 ],
 "metadata": {
  "kernelspec": {
   "display_name": "Python 3 (ipykernel)",
   "language": "python",
   "name": "python3"
  },
  "language_info": {
   "codemirror_mode": {
    "name": "ipython",
    "version": 3
   },
   "file_extension": ".py",
   "mimetype": "text/x-python",
   "name": "python",
   "nbconvert_exporter": "python",
   "pygments_lexer": "ipython3",
   "version": "3.9.7"
  }
 },
 "nbformat": 4,
 "nbformat_minor": 5
}
