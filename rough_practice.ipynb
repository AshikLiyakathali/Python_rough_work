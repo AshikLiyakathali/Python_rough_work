{
 "cells": [
  {
   "cell_type": "code",
   "execution_count": 1,
   "id": "b84d73e8",
   "metadata": {},
   "outputs": [
    {
     "name": "stdout",
     "output_type": "stream",
     "text": [
      "Sum:  45\n"
     ]
    }
   ],
   "source": [
    "lst = [1,2,3,4,5,6,7,8,9]\n",
    "sums = 0\n",
    "for item in lst:\n",
    "    sums += item \n",
    "#     print(sums)\n",
    "    \n",
    "print(\"Sum: \", sums)"
   ]
  },
  {
   "cell_type": "code",
   "execution_count": 2,
   "id": "622022ce",
   "metadata": {},
   "outputs": [
    {
     "name": "stdout",
     "output_type": "stream",
     "text": [
      "12345678\n",
      "1234\n",
      "5678\n",
      "<class 'int'>\n",
      "<class 'str'>\n"
     ]
    }
   ],
   "source": [
    "num1 = 1234\n",
    "num2 = \"5678\"\n",
    "\n",
    "print(str(num1) + str(int(num2)))\n",
    "print(num1)\n",
    "print(num2)\n",
    "print(type(num1))\n",
    "print(type(num2))"
   ]
  },
  {
   "cell_type": "code",
   "execution_count": 3,
   "id": "51ecef5e",
   "metadata": {},
   "outputs": [
    {
     "data": {
      "text/plain": [
       "'1234.56'"
      ]
     },
     "execution_count": 3,
     "metadata": {},
     "output_type": "execute_result"
    }
   ],
   "source": [
    "# Function to round off\n",
    "\n",
    "def round_off(float_num, round_num):\n",
    "    \n",
    "    a = str(float_num).split(\".\")\n",
    "    \n",
    "    if len(a[-1]) >= round_num:\n",
    "        second = str(a[-1])[:round_num]\n",
    "        whole = a[0] + \".\" + second\n",
    "        \n",
    "    else:\n",
    "        print(\"Error: Length is not valid\")\n",
    "        \n",
    "    return whole\n",
    "\n",
    "\n",
    "round_off(1234.5678, 2)"
   ]
  },
  {
   "cell_type": "code",
   "execution_count": null,
   "id": "71a2ad9e",
   "metadata": {},
   "outputs": [],
   "source": []
  },
  {
   "cell_type": "code",
   "execution_count": 4,
   "id": "d84ac998",
   "metadata": {},
   "outputs": [
    {
     "name": "stdout",
     "output_type": "stream",
     "text": [
      "000\n"
     ]
    }
   ],
   "source": [
    "print('0' * 3)"
   ]
  },
  {
   "cell_type": "code",
   "execution_count": 5,
   "id": "2de49343",
   "metadata": {},
   "outputs": [
    {
     "name": "stdout",
     "output_type": "stream",
     "text": [
      "567\n"
     ]
    }
   ],
   "source": [
    "lst2 = [1234, 5678]\n",
    "\n",
    "print(str(lst2[-1])[:3])"
   ]
  },
  {
   "cell_type": "code",
   "execution_count": null,
   "id": "084ca70d",
   "metadata": {},
   "outputs": [],
   "source": []
  },
  {
   "cell_type": "code",
   "execution_count": null,
   "id": "1373627f",
   "metadata": {},
   "outputs": [],
   "source": []
  },
  {
   "cell_type": "code",
   "execution_count": 6,
   "id": "3b4741c7",
   "metadata": {},
   "outputs": [
    {
     "ename": "TypeError",
     "evalue": "can only concatenate list (not \"int\") to list",
     "output_type": "error",
     "traceback": [
      "\u001b[0;31m---------------------------------------------------------------------------\u001b[0m",
      "\u001b[0;31mTypeError\u001b[0m                                 Traceback (most recent call last)",
      "\u001b[0;32m/var/folders/bp/j6lbgfvx5p14h_sr80tjn08c0000gp/T/ipykernel_52171/634763656.py\u001b[0m in \u001b[0;36m<module>\u001b[0;34m\u001b[0m\n\u001b[1;32m      1\u001b[0m \u001b[0mlst5\u001b[0m \u001b[0;34m=\u001b[0m \u001b[0;34m[\u001b[0m\u001b[0;36m1\u001b[0m\u001b[0;34m,\u001b[0m\u001b[0;36m2\u001b[0m\u001b[0;34m,\u001b[0m\u001b[0;36m3\u001b[0m\u001b[0;34m]\u001b[0m\u001b[0;34m\u001b[0m\u001b[0;34m\u001b[0m\u001b[0m\n\u001b[1;32m      2\u001b[0m \u001b[0;34m\u001b[0m\u001b[0m\n\u001b[0;32m----> 3\u001b[0;31m \u001b[0mprint\u001b[0m\u001b[0;34m(\u001b[0m\u001b[0mlst5\u001b[0m \u001b[0;34m+\u001b[0m \u001b[0;36m3\u001b[0m\u001b[0;34m)\u001b[0m\u001b[0;34m\u001b[0m\u001b[0;34m\u001b[0m\u001b[0m\n\u001b[0m",
      "\u001b[0;31mTypeError\u001b[0m: can only concatenate list (not \"int\") to list"
     ]
    }
   ],
   "source": [
    "lst5 = [1,2,3]\n",
    "\n",
    "print(lst5 + 3)"
   ]
  },
  {
   "cell_type": "code",
   "execution_count": null,
   "id": "349e65a6",
   "metadata": {},
   "outputs": [],
   "source": [
    "lst3 = [2,7,11,15]\n",
    "target = 9\n",
    "\n",
    "for i in range(len(lst3)):\n",
    "    \n",
    "    n_list = lst3[i+1: len(lst3)]\n",
    "    \n",
    "    print(n_list)\n",
    "    \n",
    "    n_list = n_list[] + lst3[i]\n",
    "    \n",
    "    print(n_list)"
   ]
  },
  {
   "cell_type": "code",
   "execution_count": null,
   "id": "8057941e",
   "metadata": {},
   "outputs": [],
   "source": [
    "def func1(input_list, target):\n",
    "    sums = 0\n",
    "    for item in input_list:\n",
    "        sums += item\n",
    "        print(item, sums)\n",
    "        \n",
    "        if sums == target:\n",
    "            print()\n",
    "        \n",
    "        \n",
    "    \n",
    "        \n",
    "func1(lst3 , 9)"
   ]
  },
  {
   "cell_type": "code",
   "execution_count": null,
   "id": "3b1b2be8",
   "metadata": {},
   "outputs": [],
   "source": []
  },
  {
   "cell_type": "code",
   "execution_count": null,
   "id": "d4a3d0bf",
   "metadata": {},
   "outputs": [],
   "source": []
  },
  {
   "cell_type": "code",
   "execution_count": null,
   "id": "993570cf",
   "metadata": {},
   "outputs": [],
   "source": [
    "# input a file\n",
    "# return frequency of words \n",
    "\n",
    "import os\n",
    "\n",
    "def frequency_words(filename):\n",
    "    \n",
    "    file_obj = open(filename, 'r')\n",
    "    \n",
    "    words = file_obj.reads()\n",
    "    \n",
    "    word_list = words.split(\" \")\n",
    "    \n",
    "    unique_words = set(word_list)\n",
    "    \n",
    "    freq_dict = {}\n",
    "    \n",
    "    for word in unique_words:\n",
    "        count = 0\n",
    "        for item in word_list:\n",
    "            if word.upper() == item.upper():\n",
    "                count +=1\n",
    "        \n",
    "        freq_dict[word] = count\n",
    "    \n",
    "    return freq_dict\n",
    "    \n",
    "    \n",
    "\n"
   ]
  },
  {
   "cell_type": "code",
   "execution_count": null,
   "id": "8274ae89",
   "metadata": {},
   "outputs": [],
   "source": []
  },
  {
   "cell_type": "code",
   "execution_count": null,
   "id": "e9157cf3",
   "metadata": {},
   "outputs": [],
   "source": []
  },
  {
   "cell_type": "code",
   "execution_count": null,
   "id": "ccc35916",
   "metadata": {},
   "outputs": [],
   "source": []
  },
  {
   "cell_type": "code",
   "execution_count": 21,
   "id": "4d8825e1",
   "metadata": {},
   "outputs": [
    {
     "name": "stdout",
     "output_type": "stream",
     "text": [
      "The output is ( 1 , 3 )\n"
     ]
    }
   ],
   "source": [
    "num_list = [2,7,11,15]\n",
    "target = 22\n",
    "flag = None\n",
    "\n",
    "for i in range(len(num_list)):\n",
    "    #print(\"I: \", i, \"\\t\", \"Num List[i]: \", num_list[i], \"\\n\")\n",
    "    for j in range(len(num_list)):\n",
    "        if i == j:\n",
    "            continue\n",
    "        \n",
    "        #print(\"J: \", j, \"\\t\", \"Num List[j]: \", num_list[j])\n",
    "        \n",
    "        if (num_list[i] + num_list[j]) == target:\n",
    "            flag = 1\n",
    "            print(\"The output is (\", i, \",\", j ,\")\")\n",
    "            #print(\"Breaking\")\n",
    "            break\n",
    "    if flag == 1:\n",
    "        break\n"
   ]
  },
  {
   "cell_type": "code",
   "execution_count": 59,
   "id": "7d24928e",
   "metadata": {},
   "outputs": [
    {
     "name": "stdout",
     "output_type": "stream",
     "text": [
      "The output is ( 0 , 1 )\n"
     ]
    }
   ],
   "source": [
    "num_list = [2,7,11,15]\n",
    "target = 9\n",
    "flag = None\n",
    "\n",
    "for i in range(len(num_list)):\n",
    "    for j in range(len(num_list)):\n",
    "        if i == j:\n",
    "            continue\n",
    "\n",
    "        if (num_list[i] + num_list[j]) == target:\n",
    "            flag = 1\n",
    "            print(\"The output is (\", i, \",\", j ,\")\")\n",
    "            break\n",
    "    if flag == 1:\n",
    "        break\n",
    "        \n",
    "if flag == None:\n",
    "    print(\"The target value is not in this list\")\n",
    "        "
   ]
  },
  {
   "cell_type": "code",
   "execution_count": 71,
   "id": "f4b9ae44",
   "metadata": {},
   "outputs": [
    {
     "name": "stdout",
     "output_type": "stream",
     "text": [
      "The output is ( 2 , 3 )\n",
      "The output is ( 1 , 2 )\n",
      "The output is ( 0 , 1 )\n"
     ]
    }
   ],
   "source": [
    "def target_in_list(input_list, target_value):    \n",
    "    flag = None\n",
    "\n",
    "    for i in range(len(input_list)):\n",
    "        for j in range(len(input_list)):\n",
    "            if i == j:\n",
    "                continue\n",
    "\n",
    "            if (input_list[i] + input_list[j]) == target_value:\n",
    "                flag = 1\n",
    "                print(\"The output is (\", i, \",\", j ,\")\")\n",
    "                break\n",
    "                \n",
    "        if flag == 1:\n",
    "            break\n",
    "            \n",
    "    if flag == None:\n",
    "        print(\"The target value is not in this list\")\n",
    "                  \n",
    "target_in_list([2,7,11,15], 26)\n",
    "target_in_list([1,2,3], 5)\n",
    "target_in_list([3,3], 6)\n"
   ]
  },
  {
   "cell_type": "code",
   "execution_count": null,
   "id": "d46042ae",
   "metadata": {},
   "outputs": [],
   "source": []
  },
  {
   "cell_type": "code",
   "execution_count": null,
   "id": "a5762693",
   "metadata": {},
   "outputs": [],
   "source": []
  }
 ],
 "metadata": {
  "kernelspec": {
   "display_name": "Python 3 (ipykernel)",
   "language": "python",
   "name": "python3"
  },
  "language_info": {
   "codemirror_mode": {
    "name": "ipython",
    "version": 3
   },
   "file_extension": ".py",
   "mimetype": "text/x-python",
   "name": "python",
   "nbconvert_exporter": "python",
   "pygments_lexer": "ipython3",
   "version": "3.9.7"
  }
 },
 "nbformat": 4,
 "nbformat_minor": 5
}
