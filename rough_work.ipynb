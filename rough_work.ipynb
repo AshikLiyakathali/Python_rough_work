{
 "cells": [
  {
   "cell_type": "code",
   "execution_count": 1,
   "id": "93138adb",
   "metadata": {},
   "outputs": [
    {
     "data": {
      "text/plain": [
       "12"
      ]
     },
     "execution_count": 1,
     "metadata": {},
     "output_type": "execute_result"
    }
   ],
   "source": [
    "# Adding two numbers\n",
    "\n",
    "5 + 7\n"
   ]
  },
  {
   "cell_type": "code",
   "execution_count": 2,
   "id": "c5a8d6a8",
   "metadata": {},
   "outputs": [
    {
     "name": "stdout",
     "output_type": "stream",
     "text": [
      "Enter first number: 1\n",
      "Enter second number: 2\n"
     ]
    },
    {
     "data": {
      "text/plain": [
       "3"
      ]
     },
     "execution_count": 2,
     "metadata": {},
     "output_type": "execute_result"
    }
   ],
   "source": [
    "# Adding two numbers by getting inputs from user\n",
    "\n",
    "a = int(input(\"Enter first number: \"))\n",
    "b = int(input(\"Enter second number: \"))\n",
    "c = a + b\n",
    "c\n"
   ]
  },
  {
   "cell_type": "code",
   "execution_count": 3,
   "id": "dc9685c6",
   "metadata": {},
   "outputs": [
    {
     "data": {
      "text/plain": [
       "12"
      ]
     },
     "execution_count": 3,
     "metadata": {},
     "output_type": "execute_result"
    }
   ],
   "source": [
    "# Adding two numbers by using a function\n",
    "\n",
    "def sum(a = 1, b = 2):\n",
    "    return a + b\n",
    "\n",
    "sum(5, 7)\n"
   ]
  },
  {
   "cell_type": "code",
   "execution_count": 8,
   "id": "70115b56",
   "metadata": {},
   "outputs": [
    {
     "name": "stdout",
     "output_type": "stream",
     "text": [
      "Enter first number: 3\n",
      "Enter second number: 2\n",
      "The sum of the two numbers given is:  5\n"
     ]
    }
   ],
   "source": [
    "# Adding two numbers by using a function with inputs\n",
    "\n",
    "def sum(a = 1, b = 2):\n",
    "    return a + b\n",
    "\n",
    "a = int(input(\"Enter first number: \"))\n",
    "b = int(input(\"Enter second number: \"))\n",
    "\n",
    "print(\"The sum of the two numbers given is: \", sum(a, b))"
   ]
  },
  {
   "cell_type": "code",
   "execution_count": 5,
   "id": "67e21106",
   "metadata": {},
   "outputs": [
    {
     "name": "stdout",
     "output_type": "stream",
     "text": [
      "The Volume of the sphere with radius 2 is: 33.49333333333333\n"
     ]
    }
   ],
   "source": [
    "# Volume of a sphere\n",
    "\n",
    "r = 2\n",
    "v = (4 / 3) * 3.14 * (r ** 3) \n",
    "print(\"The Volume of the sphere with radius\", r ,\"is:\", v)\n"
   ]
  },
  {
   "cell_type": "code",
   "execution_count": 10,
   "id": "ad548d4f",
   "metadata": {},
   "outputs": [
    {
     "name": "stdout",
     "output_type": "stream",
     "text": [
      "Enter the radius of the circle: 3\n",
      "The Volume of the sphere with radius 3.0 is: 113.03999999999999\n"
     ]
    }
   ],
   "source": [
    "# Volume of a sphere by using a function with inputs\n",
    "\n",
    "def sphere_volume(r):\n",
    "    return (4 / 3) * 3.14 * (r ** 3)\n",
    "\n",
    "r = float(input(\"Enter the radius of the circle: \"))\n",
    "\n",
    "print(\"The Volume of the sphere with radius\",r , \"is:\", sphere_volume(r))"
   ]
  },
  {
   "cell_type": "code",
   "execution_count": 11,
   "id": "741998f0",
   "metadata": {},
   "outputs": [],
   "source": [
    "# Generating grid for game like Battleship\n",
    "# length = 10 and height = 8\n",
    "\n",
    "########## \n",
    "########## \n",
    "########## \n",
    "########## \n",
    "########## \n",
    "########## \n",
    "########## \n",
    "##########"
   ]
  },
  {
   "cell_type": "code",
   "execution_count": 1,
   "id": "bc5c8c6c",
   "metadata": {},
   "outputs": [
    {
     "name": "stdout",
     "output_type": "stream",
     "text": [
      "##########\n",
      "##########\n",
      "##########\n",
      "##########\n",
      "##########\n",
      "##########\n",
      "##########\n",
      "##########\n",
      "\n"
     ]
    }
   ],
   "source": [
    "# Writing a function to execute the pattern using a function\n",
    "\n",
    "def pattern():\n",
    "    print(((\"#\" * 10) + \"\\n\") * 8)\n",
    "\n",
    "pattern()"
   ]
  },
  {
   "cell_type": "code",
   "execution_count": null,
   "id": "2049d530",
   "metadata": {},
   "outputs": [],
   "source": []
  },
  {
   "cell_type": "code",
   "execution_count": null,
   "id": "370f3ca1",
   "metadata": {},
   "outputs": [],
   "source": [
    "# Quiz 3"
   ]
  },
  {
   "cell_type": "code",
   "execution_count": 5,
   "id": "f37b0fc2",
   "metadata": {},
   "outputs": [
    {
     "name": "stdout",
     "output_type": "stream",
     "text": [
      "hello!\n",
      "the number is positive\n",
      "thank you\n",
      "all done\n"
     ]
    }
   ],
   "source": [
    "def check_positive(num):\n",
    "    print(\"hello!\")\n",
    "    if num > 0:\n",
    "        print(\"the number is positive\")\n",
    "    else:\n",
    "        print(\"the number is negative\")\n",
    "    print(\"thank you\")\n",
    "    print(\"all done\")\n",
    "\n",
    "check_positive(3)"
   ]
  },
  {
   "cell_type": "code",
   "execution_count": 14,
   "id": "8b2ba230",
   "metadata": {},
   "outputs": [
    {
     "name": "stdout",
     "output_type": "stream",
     "text": [
      "Enter a number: 14\n",
      "14is divisible by 7\n"
     ]
    }
   ],
   "source": [
    "x = int(input(\"Enter a number: \"))\n",
    "if x%7 == 0:\n",
    "    print(str(x) + \"is divisible by 7\")\n",
    "else:\n",
    "    print(str(x) + \"is not divisible by 7\")"
   ]
  },
  {
   "cell_type": "code",
   "execution_count": null,
   "id": "26105e8d",
   "metadata": {},
   "outputs": [],
   "source": []
  },
  {
   "cell_type": "code",
   "execution_count": 22,
   "id": "c2ac50e9",
   "metadata": {},
   "outputs": [
    {
     "data": {
      "text/plain": [
       "False"
      ]
     },
     "execution_count": 22,
     "metadata": {},
     "output_type": "execute_result"
    }
   ],
   "source": [
    "def some_func(x, y, z): \n",
    "    if x == 7:\n",
    "        return True\n",
    "    elif y == 15:\n",
    "        return True\n",
    "    elif z == 12:\n",
    "        return True\n",
    "    else:\n",
    "        return False\n",
    "    \n",
    "some_func(3,1,2)\n"
   ]
  },
  {
   "cell_type": "code",
   "execution_count": 21,
   "id": "dfdf78f8",
   "metadata": {},
   "outputs": [
    {
     "data": {
      "text/plain": [
       "False"
      ]
     },
     "execution_count": 21,
     "metadata": {},
     "output_type": "execute_result"
    }
   ],
   "source": [
    "def a(x,y,z):\n",
    "    return x == 7 or y == 15 or z == 12\n",
    "\n",
    "a(3,1,2)"
   ]
  },
  {
   "cell_type": "code",
   "execution_count": 23,
   "id": "a544d3ad",
   "metadata": {},
   "outputs": [
    {
     "name": "stdout",
     "output_type": "stream",
     "text": [
      "1\n",
      "2\n",
      "3\n",
      "4\n",
      "5\n"
     ]
    }
   ],
   "source": [
    "i =0 \n",
    "while i < 5:\n",
    "    print(i+1)\n",
    "    i = i +1"
   ]
  },
  {
   "cell_type": "code",
   "execution_count": 24,
   "id": "a6d8bc38",
   "metadata": {},
   "outputs": [
    {
     "name": "stdout",
     "output_type": "stream",
     "text": [
      "300\n",
      "200\n",
      "100\n"
     ]
    }
   ],
   "source": [
    "i = 300\n",
    "while i > 0:\n",
    "    print(i)\n",
    "    i += -100"
   ]
  },
  {
   "cell_type": "code",
   "execution_count": 25,
   "id": "a5aacbbf",
   "metadata": {},
   "outputs": [
    {
     "name": "stdout",
     "output_type": "stream",
     "text": [
      "3\n",
      "9\n",
      "27\n",
      "81\n"
     ]
    }
   ],
   "source": [
    "i = 1\n",
    "while i <= 30:\n",
    "    i = i * 3\n",
    "    print(i)"
   ]
  },
  {
   "cell_type": "code",
   "execution_count": 31,
   "id": "4519df22",
   "metadata": {},
   "outputs": [
    {
     "name": "stdout",
     "output_type": "stream",
     "text": [
      "20\n",
      "16\n",
      "12\n",
      "8\n",
      "4\n",
      "0\n"
     ]
    }
   ],
   "source": [
    "number = 20\n",
    "while number > -4: \n",
    "    print(number)\n",
    "    number = number - 4"
   ]
  },
  {
   "cell_type": "code",
   "execution_count": 32,
   "id": "fe2c0708",
   "metadata": {},
   "outputs": [],
   "source": [
    "#number > -1; number /= 4\n",
    "# number >= -4; number -= 4"
   ]
  },
  {
   "cell_type": "code",
   "execution_count": 42,
   "id": "a5bc3938",
   "metadata": {},
   "outputs": [
    {
     "name": "stdout",
     "output_type": "stream",
     "text": [
      "Enter a number: 0\n"
     ]
    }
   ],
   "source": [
    "x = int(input(\"Enter a number: \"))\n",
    "while x != 0:\n",
    "    x = x - 2\n",
    "    print(x)"
   ]
  },
  {
   "cell_type": "code",
   "execution_count": 39,
   "id": "e64c2e04",
   "metadata": {},
   "outputs": [
    {
     "name": "stdout",
     "output_type": "stream",
     "text": [
      "10\n"
     ]
    }
   ],
   "source": [
    "sum_4 = 0\n",
    "for i in range(1, 5):\n",
    "    sum_4 = sum_4 + i\n",
    "print(sum_4)"
   ]
  },
  {
   "cell_type": "code",
   "execution_count": 40,
   "id": "85cb7763",
   "metadata": {},
   "outputs": [
    {
     "name": "stdout",
     "output_type": "stream",
     "text": [
      "4\n"
     ]
    }
   ],
   "source": [
    "for i in range(1, 5):\n",
    "    sum_4 = 0\n",
    "    sum_4 = sum_4 + i\n",
    "print(sum_4)"
   ]
  },
  {
   "cell_type": "code",
   "execution_count": 41,
   "id": "7fb4a28b",
   "metadata": {},
   "outputs": [],
   "source": [
    "# Quiz 3\n",
    "\n",
    "# 1) 5\n",
    "\n",
    "# 2) if x % 2 == 1:\n",
    "#    print (\"Odd\")\n",
    "#   if x % 2 != 0:\n",
    "#    print (\"Odd\")\n",
    "\n",
    "# 3) 4\n",
    "\n",
    "# 4) x = int(input(\"Enter a number: \"))\n",
    "#    if x%7 == 0:\n",
    "#        print(str(x) + \"is divisible by 7\") \n",
    "#    else:\n",
    "#        print(str(x) + \"is not divisible by 7\")\n",
    "\n",
    "# 5) Chained conditional blocks \n",
    "#    Conditional blocks \n",
    "#    Nested Conditional blocks \n",
    "\n",
    "# 6) return x == 7 or y == 15 or z == 12\n",
    "\n",
    "# 7) The options produce different output for some arguments\n",
    "\n",
    "# 8) The options produce different output for some arguments\n",
    "\n",
    "# 9) i = 0 \n",
    "#    while i < 5: \n",
    "#      print (i + 1) \n",
    "#      i = i + 1 \n",
    "\n",
    "# 10) 300\n",
    "#     i > 0\n",
    "#     -100\n",
    "\n",
    "# 11) sum_4 = 0\n",
    "#     for i in range(1, 5):\n",
    "#         sum_4 = sum_4 + i\n",
    "\n",
    "# 12) Loop condition\n",
    "\n",
    "# 13) 3\n",
    "#    -2\n",
    "\n",
    "# 14) 5\n",
    "\n",
    "# 15) number >= -1; number -= 4 \n",
    "#     number > -1; number = number - 4 \n",
    "#     number >= 0; number -= 4  \n",
    "#     number > -4; number = number - 4"
   ]
  },
  {
   "cell_type": "code",
   "execution_count": 45,
   "id": "015670ef",
   "metadata": {},
   "outputs": [
    {
     "name": "stdout",
     "output_type": "stream",
     "text": [
      "True\n",
      "False\n",
      "False\n",
      "False\n"
     ]
    }
   ],
   "source": [
    "def some_func1(condition1, condition2):\n",
    "    return condition1 and condition2\n",
    "\n",
    "print(some_func1(True, True))\n",
    "print(some_func1(True, False))\n",
    "print(some_func1(False, False))\n",
    "print(some_func1(False, True))\n"
   ]
  },
  {
   "cell_type": "code",
   "execution_count": 47,
   "id": "84117487",
   "metadata": {},
   "outputs": [
    {
     "name": "stdout",
     "output_type": "stream",
     "text": [
      "False\n",
      "False\n",
      "False\n",
      "False\n"
     ]
    }
   ],
   "source": [
    "def some_func2(condition1, condition2): \n",
    "    rv = False\n",
    "    rv = rv and condition1\n",
    "    rv = rv and condition2\n",
    "    return rv\n",
    "\n",
    "print(some_func2(True, True))\n",
    "print(some_func2(True, False))\n",
    "print(some_func2(False, False))\n",
    "print(some_func2(False, True))\n"
   ]
  },
  {
   "cell_type": "code",
   "execution_count": 54,
   "id": "40d0da33",
   "metadata": {},
   "outputs": [
    {
     "name": "stdout",
     "output_type": "stream",
     "text": [
      "True\n",
      "False\n",
      "False\n"
     ]
    }
   ],
   "source": [
    "def is_220_v1(a, b, c):\n",
    "    return a == 2 and b == 2 and c == 0\n",
    "\n",
    "print(is_220_v1(2,2,0))\n",
    "print(is_220_v1(2,2,2))\n",
    "print(is_220_v1(1,4,3))\n"
   ]
  },
  {
   "cell_type": "code",
   "execution_count": 55,
   "id": "0bd55e5f",
   "metadata": {},
   "outputs": [
    {
     "name": "stdout",
     "output_type": "stream",
     "text": [
      "False\n",
      "False\n",
      "False\n",
      "False\n",
      "True\n",
      "True\n"
     ]
    }
   ],
   "source": [
    "def is_220_v2(a, b, c):\n",
    "    if a == 2:\n",
    "        return False\n",
    "    if b == 2:\n",
    "        return False\n",
    "    if c == 0:\n",
    "        return False\n",
    "    return True\n",
    "\n",
    "print(is_220_v2(2,2,0))\n",
    "print(is_220_v2(1,2,0))\n",
    "print(is_220_v2(2,1,0))\n",
    "print(is_220_v2(2,2,1))\n",
    "print(is_220_v2(5,6,7))\n",
    "print(is_220_v2(1,4,3))\n"
   ]
  },
  {
   "cell_type": "code",
   "execution_count": null,
   "id": "3b6d6b65",
   "metadata": {},
   "outputs": [],
   "source": []
  },
  {
   "cell_type": "code",
   "execution_count": null,
   "id": "76d610e2",
   "metadata": {},
   "outputs": [],
   "source": []
  },
  {
   "cell_type": "code",
   "execution_count": 4,
   "id": "a97de969",
   "metadata": {},
   "outputs": [
    {
     "data": {
      "text/plain": [
       "'bananaapp'"
      ]
     },
     "execution_count": 4,
     "metadata": {},
     "output_type": "execute_result"
    }
   ],
   "source": [
    "fruits = ['apple', 'orange', 'mango', 'banana']\n",
    "fruits[-1]\n",
    "fruits[]\n",
    "fruits[-1] + fruits[0][:3]"
   ]
  },
  {
   "cell_type": "code",
   "execution_count": null,
   "id": "fd381caf",
   "metadata": {},
   "outputs": [],
   "source": []
  },
  {
   "cell_type": "code",
   "execution_count": 8,
   "id": "e080081d",
   "metadata": {},
   "outputs": [
    {
     "name": "stdout",
     "output_type": "stream",
     "text": [
      "A\n",
      "S\n",
      "H\n",
      "I\n",
      "K\n"
     ]
    }
   ],
   "source": [
    "msg = 'ASHIK'\n",
    "i = 0\n",
    "while i < len(msg):\n",
    "    print(msg[i])\n",
    "    i += 1\n",
    "    "
   ]
  },
  {
   "cell_type": "code",
   "execution_count": 11,
   "id": "1f81fde8",
   "metadata": {},
   "outputs": [
    {
     "name": "stdout",
     "output_type": "stream",
     "text": [
      "10\n",
      "20\n",
      "30\n"
     ]
    }
   ],
   "source": [
    "numbers = \"123\"\n",
    "\n",
    "for value in numbers:\n",
    "    print(value + \"0\")"
   ]
  },
  {
   "cell_type": "code",
   "execution_count": 15,
   "id": "38155407",
   "metadata": {},
   "outputs": [
    {
     "data": {
      "text/plain": [
       "'AK'"
      ]
     },
     "execution_count": 15,
     "metadata": {},
     "output_type": "execute_result"
    }
   ],
   "source": [
    "s = 'ASHIK'\n",
    "\n",
    "s[0] + s[-1]\n",
    "\n"
   ]
  },
  {
   "cell_type": "code",
   "execution_count": null,
   "id": "9383f85b",
   "metadata": {},
   "outputs": [],
   "source": []
  },
  {
   "cell_type": "code",
   "execution_count": 17,
   "id": "88f7eb4e",
   "metadata": {},
   "outputs": [
    {
     "data": {
      "text/plain": [
       "13"
      ]
     },
     "execution_count": 17,
     "metadata": {},
     "output_type": "execute_result"
    }
   ],
   "source": [
    "def score_cs(word):\n",
    "    score = 0\n",
    "    for letter in word:\n",
    "        if letter.upper() == 'C':\n",
    "            score += 10\n",
    "        elif letter.upper() == 'S':\n",
    "            score += 1\n",
    "\n",
    "    return score\n",
    "\n",
    "score_cs(\"Classes\") # returns 13\n",
    "#score_cs(\"music\") # returns 11"
   ]
  },
  {
   "cell_type": "code",
   "execution_count": 27,
   "id": "1d3b5a24",
   "metadata": {},
   "outputs": [
    {
     "name": "stdout",
     "output_type": "stream",
     "text": [
      "abcde\n",
      "['a', 'b', 'c', 'd', 'e']\n"
     ]
    }
   ],
   "source": [
    "a = \"abcde\"\n",
    "alist = list(a)\n",
    "\n",
    "print(a)\n",
    "print(alist)\n"
   ]
  },
  {
   "cell_type": "code",
   "execution_count": 30,
   "id": "7f3d14e4",
   "metadata": {},
   "outputs": [
    {
     "name": "stdout",
     "output_type": "stream",
     "text": [
      "2 words have length > 5\n"
     ]
    }
   ],
   "source": [
    "word_list = ['abcdef', 'efghif', 'as', 'abc'] # a list that contains many strings\n",
    "count = 0\n",
    "\n",
    "for word in word_list:\n",
    "    if len(word) > 5:\n",
    "        count += 1\n",
    "\n",
    "print(count, \"words have length > 5\")"
   ]
  },
  {
   "cell_type": "code",
   "execution_count": 36,
   "id": "bc7469a0",
   "metadata": {},
   "outputs": [
    {
     "data": {
      "text/plain": [
       "['1. Fill gas', '2. Drive to market', '3. Buy groceries', '4. Drive back']"
      ]
     },
     "execution_count": 36,
     "metadata": {},
     "output_type": "execute_result"
    }
   ],
   "source": [
    "to_do_list = [\"4. Drive back\", \"1. Fill gas\", \"2. Drive to market\", \"3. Buy groceries\"]\n",
    "\n",
    "to_do_list.append(to_do_list.pop(0))\n",
    "to_do_list\n",
    "\n",
    "\n"
   ]
  },
  {
   "cell_type": "code",
   "execution_count": 37,
   "id": "e732735d",
   "metadata": {},
   "outputs": [],
   "source": [
    "# Quiz 4\n",
    "\n",
    "# 1) len , indexing\n",
    "\n",
    "# 2) \"123\"\n",
    "\n",
    "# 3) s[:1] + s[len(s) -1]\n",
    "#    s[0] + s[-1]\n",
    "\n",
    "# 4) word: \n",
    "#    10 \n",
    "#    1\n",
    "#    score\n",
    "\n",
    "# 5) .strip() - String\n",
    "#    .pop() - List\n",
    "#    len() - Both String and List\n",
    "#    abs() - Neither String or List\n",
    "\n",
    "\n",
    "# 6) 0 \n",
    "# word_list: \n",
    "# len(word) > 5: \n",
    "# count += 1 \n",
    "\n",
    "# 7) to_do_list.sort()\n",
    "# to_do_list.append(to_do_list.pop(0))\n",
    "\n",
    "# 8) 'banana' - fruits[-1]\n",
    "# 'go' - fruits[2][3:]\n",
    "# 'ban' - fruits[3][:3]\n",
    "# 'bananaapp' - fruits[-1] + fruits[0][:3]\n",
    "\n",
    "# 9) header = csv_data[0]\n",
    "# rows = csv_data[1:]\n",
    "# for row in rows:\n",
    "# print(row[0])\n",
    "\n",
    "\n",
    "# 10) rows[1][0] - 'Avatar: The Last Airbender (2005)'\n",
    "# rows[4][1] - 'Documentary'\n",
    "# rows[3][2] - '9.4'\n",
    "# \"; \".join(rows[1][:3]) - 'Avatar: The Last Airbender (2005); Animation; 9.2'\n",
    "\n",
    "# 11)  A CSV file stores all values as strings. \n",
    "#  The delimiter for rows in a CSV file is a newline. \n",
    "\n",
    "# 12) movieid,1,2,3 - column\n",
    "# Jumanji (1995) - cell\n",
    "# movieid,title,genres - header\n",
    "# 3,Grumpier Old Men (1995),Comedy|Romance - row\n"
   ]
  },
  {
   "cell_type": "code",
   "execution_count": null,
   "id": "74d6533c",
   "metadata": {},
   "outputs": [],
   "source": []
  },
  {
   "cell_type": "code",
   "execution_count": null,
   "id": "e22ac015",
   "metadata": {},
   "outputs": [],
   "source": []
  },
  {
   "cell_type": "code",
   "execution_count": 46,
   "id": "40ee2fde",
   "metadata": {},
   "outputs": [],
   "source": [
    "import csv\n",
    "\n",
    "# copied from https://automatetheboringstuff.com/chapter14/\n",
    "def process_csv(filename):\n",
    "    exampleFile = open(filename, encoding=\"utf-8-sig\")\n",
    "    exampleReader = csv.reader(exampleFile)\n",
    "    exampleData = list(exampleReader)\n",
    "    exampleFile.close()\n",
    "    return exampleData\n",
    "\n",
    "rows = process_csv(\"tv_shows.csv\")\n",
    "header = rows[0]\n",
    "rows = rows[1:]\n"
   ]
  },
  {
   "cell_type": "code",
   "execution_count": 41,
   "id": "e6955735",
   "metadata": {},
   "outputs": [
    {
     "data": {
      "text/plain": [
       "'Avatar: The Last Airbender (2005)'"
      ]
     },
     "execution_count": 41,
     "metadata": {},
     "output_type": "execute_result"
    }
   ],
   "source": [
    "rows[1][0]"
   ]
  },
  {
   "cell_type": "code",
   "execution_count": 43,
   "id": "faef1c51",
   "metadata": {},
   "outputs": [
    {
     "data": {
      "text/plain": [
       "'Documentary'"
      ]
     },
     "execution_count": 43,
     "metadata": {},
     "output_type": "execute_result"
    }
   ],
   "source": [
    "rows[4][1]"
   ]
  },
  {
   "cell_type": "code",
   "execution_count": 44,
   "id": "784d638e",
   "metadata": {},
   "outputs": [
    {
     "data": {
      "text/plain": [
       "'9.4'"
      ]
     },
     "execution_count": 44,
     "metadata": {},
     "output_type": "execute_result"
    }
   ],
   "source": [
    "rows[3][2]"
   ]
  },
  {
   "cell_type": "code",
   "execution_count": 45,
   "id": "cd4b8830",
   "metadata": {},
   "outputs": [
    {
     "data": {
      "text/plain": [
       "'Avatar: The Last Airbender (2005); Animation; 9.2'"
      ]
     },
     "execution_count": 45,
     "metadata": {},
     "output_type": "execute_result"
    }
   ],
   "source": [
    "\"; \".join(rows[1][:3])"
   ]
  },
  {
   "cell_type": "code",
   "execution_count": null,
   "id": "b71efa5e",
   "metadata": {},
   "outputs": [],
   "source": [
    "# Quiz 5\n",
    "\n",
    "# 1) Answer 1: states: \n",
    "    #Answer 2: continue \n",
    "    #Answer 3: wisconsin_frequency += 1 \n",
    "    #Answer 4: iowa_frequency += 1 \n",
    "    #Answer 5: str(wisconsin_frequency) \n",
    "    #Answer 6: str(iowa_frequency) \n",
    "\n",
    "# 2) print(winter_sports[-3][:-8]) # figure \n",
    "    #print(winter_sports[1][1].split(\" \")[0]) # cross-country\n",
    "    #print(winter_sports[2][:]) # hockey\n",
    "    #print(winter_sports[-1] + \" \" + winter_sports[0][7:]) # hockey skating\n",
    "\n",
    "# 3) Answer 1: row in data \n",
    "    #Answer 2: row[-1]\n",
    "\n",
    "# 4) Answer 1: sentence.split(\" \") \n",
    "    #Answer 2: word_freq \n",
    "    #Answer 3: word_freq[word] = 1 \n",
    "    #Answer 4: word_freq[word] += 1 \n",
    "\n",
    "# 5) Answer 1: word_freq \n",
    "    #Answer 2: if word_freq[key] > max_value: \n",
    "    #Answer 3: max_value = word_freq[key] \n",
    "\n",
    "# 6) Answer 1: num_dict \n",
    "    #Answer 2: key \n",
    "    #Answer 3: num_dict[key] \n",
    "\n",
    "# 7) Sequence indexing\n",
    "    #Creation of list with items: 10, 20, and 30.\n",
    "    #Sequence slicing\n",
    "    #Dictionary lookup\n",
    "\n",
    "# 8) type1 = pokemon[header.index('Type 1')]\n",
    "    #if type1 not in type1_buckets_dict:\n",
    "    #    type1_buckets_dict[type1] = [ ]\n",
    "    #type1_buckets_dict[type1].append(pokemon)\n",
    "\n",
    "\n",
    "# 9) A dictionary of dictionaries\n",
    "\n",
    "\n",
    "# 10) #pokemons['Bulbasaur'] - dict\n",
    "    #pokemons['Bulbasaur']['Collected'] - bool\n",
    "    #pokemons['Bulbasaur']['Region'] - str\n",
    "    #pokemons['Bulbasaur']['Attacks'] - dict\n",
    "    #pokemons['Bulbasaur']['Speed'] - float\n",
    "    #pokemons['Bulbasaur']['Types'] - list\n",
    "\n",
    "# 11) rows[1][-2] and vals[1][\"x\"]\n",
    "    #rows[1][header.index(\"x\")] and vals[-2][\"x\"]\n"
   ]
  },
  {
   "cell_type": "code",
   "execution_count": 2,
   "id": "6730ac61",
   "metadata": {},
   "outputs": [
    {
     "name": "stdout",
     "output_type": "stream",
     "text": [
      "Wisconsin: 3\n",
      "Iowa: 2\n"
     ]
    }
   ],
   "source": [
    "#1\n",
    "states = [\"Wisconsin\", \"Iowa\", \"Minnesota\", \"Illinois\", \"Iowa\", \"Wisconsin\", \"Wisconsin\"]\n",
    "\n",
    "wisconsin_frequency = 0\n",
    "iowa_frequency = 0\n",
    "\n",
    "for state in states:\n",
    "    if state == \"Illinois\" or state == \"Minnesota\":\n",
    "        continue\n",
    "    elif state == \"Wisconsin\":\n",
    "        wisconsin_frequency += 1\n",
    "    elif state == \"Iowa\":\n",
    "        iowa_frequency += 1\n",
    "\n",
    "print(\"Wisconsin: \" + str(wisconsin_frequency))\n",
    "print(\"Iowa: \" + str(iowa_frequency))"
   ]
  },
  {
   "cell_type": "code",
   "execution_count": 13,
   "id": "75202273",
   "metadata": {},
   "outputs": [
    {
     "name": "stdout",
     "output_type": "stream",
     "text": [
      "figure\n",
      "cross-country\n",
      "hockey\n",
      "hockey skating\n"
     ]
    }
   ],
   "source": [
    "#2\n",
    "\n",
    "winter_sports = [\"figure skating\", [\"downhill skiing\", \"cross-country skiing\"], \"hockey\"]\n",
    "\n",
    "print(winter_sports[-3][:-8]) # figure \n",
    "print(winter_sports[1][1].split(\" \")[0]) # cross-country\n",
    "print(winter_sports[2][:]) # hockey\n",
    "print(winter_sports[-1] + \" \" + winter_sports[0][7:]) # hockey skating\n"
   ]
  },
  {
   "cell_type": "code",
   "execution_count": 14,
   "id": "a8a59b6e",
   "metadata": {},
   "outputs": [
    {
     "name": "stdout",
     "output_type": "stream",
     "text": [
      "Alice\n",
      "Bob\n",
      "Cindy\n"
     ]
    }
   ],
   "source": [
    "#3\n",
    "\n",
    "rows = [ [\"x\", \"y\", \"name\"], [3, 4, \"Alice\"], [9, 1, \"Bob\"], [-3, 4, \"Cindy\"] ]\n",
    "header = rows[0]\n",
    "data = rows[1:]\n",
    "\n",
    "for row in data:\n",
    "    print(row[-1])\n",
    "    "
   ]
  },
  {
   "cell_type": "code",
   "execution_count": 54,
   "id": "5e162640",
   "metadata": {},
   "outputs": [
    {
     "name": "stdout",
     "output_type": "stream",
     "text": [
      "enter a sentence: i love farzu\n",
      "{'i': 1, 'love': 1, 'farzu': 1}\n"
     ]
    }
   ],
   "source": [
    "#4 \n",
    "\n",
    "word_freq = dict()  \n",
    "sentence = input(\"enter a sentence: \")\n",
    "\n",
    "for word in sentence.split(\" \"):\n",
    "    word = word.lower()\n",
    "    if not (word in word_freq):\n",
    "        word_freq[word] = 1\n",
    "    else:\n",
    "        word_freq[word] += 1\n",
    "        \n",
    "print(word_freq)\n"
   ]
  },
  {
   "cell_type": "code",
   "execution_count": 55,
   "id": "0c5b0a33",
   "metadata": {},
   "outputs": [
    {
     "name": "stdout",
     "output_type": "stream",
     "text": [
      "The word \"i\" appeared 1 times.\n"
     ]
    }
   ],
   "source": [
    "#5\n",
    "\n",
    "most_used_key = None  \n",
    "max_value = 0\n",
    "\n",
    "for key in word_freq:\n",
    "    \n",
    "    if word_freq[key] > max_value:\n",
    "        most_used_key = key\n",
    "        max_value = word_freq[key]\n",
    "\n",
    "print(\"The word \\\"{}\\\" appeared {} times.\".format(str(most_used_key), max_value))"
   ]
  },
  {
   "cell_type": "code",
   "execution_count": 29,
   "id": "e9438ac0",
   "metadata": {},
   "outputs": [
    {
     "name": "stdout",
     "output_type": "stream",
     "text": [
      "1st\n",
      "2nd\n",
      "3rd\n",
      "4th\n"
     ]
    }
   ],
   "source": [
    "#6\n",
    "\n",
    "num_dict = {1:\"st\", 2:\"nd\", 3:\"rd\", 4:\"th\"}\n",
    "\n",
    "for key in num_dict:\n",
    "    print(str(key) + str(num_dict[key]))\n"
   ]
  },
  {
   "cell_type": "code",
   "execution_count": null,
   "id": "d035fc09",
   "metadata": {},
   "outputs": [],
   "source": []
  },
  {
   "cell_type": "code",
   "execution_count": 53,
   "id": "b68b61dc",
   "metadata": {},
   "outputs": [
    {
     "data": {
      "text/plain": [
       "{'Grass': [['0',\n",
       "   'Bulbasaur',\n",
       "   '49',\n",
       "   '49',\n",
       "   '45',\n",
       "   'Kanto',\n",
       "   '65',\n",
       "   '65',\n",
       "   '45',\n",
       "   'Grass',\n",
       "   'Poison'],\n",
       "  ['1',\n",
       "   'Ivysaur',\n",
       "   '62',\n",
       "   '63',\n",
       "   '60',\n",
       "   'Kanto',\n",
       "   '80',\n",
       "   '80',\n",
       "   '60',\n",
       "   'Grass',\n",
       "   'Poison']],\n",
       " 'Fire': [['2',\n",
       "   'Charmander',\n",
       "   '50',\n",
       "   '50',\n",
       "   '40',\n",
       "   'Kanto',\n",
       "   '80',\n",
       "   '70',\n",
       "   '60',\n",
       "   'Fire',\n",
       "   'Rock']]}"
      ]
     },
     "execution_count": 53,
     "metadata": {},
     "output_type": "execute_result"
    }
   ],
   "source": [
    "#8\n",
    "\n",
    "pokemon_data = [['Index', 'Name', 'Attack', 'Defense', 'HP', 'Region', 'Sp. Atk', 'Sp. Def', 'Speed', 'Type 1', 'Type 2'],\n",
    "    ['0', 'Bulbasaur', '49', '49', '45', 'Kanto', '65', '65', '45', 'Grass', 'Poison'],\n",
    "    ['1', 'Ivysaur', '62', '63', '60', 'Kanto', '80', '80', '60', 'Grass', 'Poison'],\n",
    "    ['2', 'Charmander', '50', '50', '40', 'Kanto', '80', '70', '60', 'Fire', 'Rock']]\n",
    "\n",
    "type1_buckets_dict = {}\n",
    "header = pokemon_data[0]\n",
    "pokemons = pokemon_data[1:]\n",
    "for pokemon in pokemons:\n",
    "    type1 = pokemon[header.index('Type 1')]\n",
    "    \n",
    "    if type1 not in type1_buckets_dict:\n",
    "        type1_buckets_dict[type1] = [ ]\n",
    "        \n",
    "    type1_buckets_dict[type1].append(pokemon)\n",
    "\n",
    "type1_buckets_dict\n"
   ]
  },
  {
   "cell_type": "code",
   "execution_count": 30,
   "id": "324b74ad",
   "metadata": {},
   "outputs": [
    {
     "data": {
      "text/plain": [
       "{'Baker': {'formed': '08/18/1950',\n",
       "  'dissipated': '09/01/1950',\n",
       "  'mph': '105',\n",
       "  'damage': '2.55M',\n",
       "  'deaths': '38'},\n",
       " 'Camille': {'formed': '08/14/1969',\n",
       "  'dissipated': '08/22/1969',\n",
       "  'mph': '175',\n",
       "  'damage': '1.42B',\n",
       "  'deaths': '259'},\n",
       " 'Eloise': {'formed': '09/13/1975',\n",
       "  'dissipated': '09/24/1975',\n",
       "  'mph': '125',\n",
       "  'damage': '560M',\n",
       "  'deaths': '80'}}"
      ]
     },
     "execution_count": 30,
     "metadata": {},
     "output_type": "execute_result"
    }
   ],
   "source": [
    "#9\n",
    "\n",
    "hurricanes = {'Baker': {'formed': '08/18/1950',\n",
    "  'dissipated': '09/01/1950',\n",
    "  'mph': '105',\n",
    "  'damage': '2.55M',\n",
    "  'deaths': '38'},\n",
    " 'Camille': {'formed': '08/14/1969',\n",
    "  'dissipated': '08/22/1969',\n",
    "  'mph': '175',\n",
    "  'damage': '1.42B',\n",
    "  'deaths': '259'},\n",
    " 'Eloise': {'formed': '09/13/1975',\n",
    "  'dissipated': '09/24/1975',\n",
    "  'mph': '125',\n",
    "  'damage': '560M',\n",
    "  'deaths': '80'}}\n",
    "\n",
    "hurricanes"
   ]
  },
  {
   "cell_type": "code",
   "execution_count": 56,
   "id": "8276efb9",
   "metadata": {},
   "outputs": [
    {
     "data": {
      "text/plain": [
       "5"
      ]
     },
     "execution_count": 56,
     "metadata": {},
     "output_type": "execute_result"
    }
   ],
   "source": [
    "#11\n",
    "\n",
    "header = [\"name\", \"x\", \"y\"]\n",
    "rows = [\n",
    "   [\"Alice\", 30, 20],\n",
    "   [\"Bob\", 5, 11],\n",
    "   [\"Cindy\", -2, 50],\n",
    "]\n",
    "\n",
    "vals = [\n",
    "{\"name\":\"Alice\", \"x\":30, \"y\":20},\n",
    "{\"name\":\"Bob\", \"x\":5, \"y\":11},\n",
    "{\"name\":\"Cindy\", \"x\":-2, \"y\":50},\n",
    "]\n",
    "\n",
    "rows[1][-2] and vals[1][\"x\"]\n",
    "rows[1][header.index(\"x\")] and vals[-2][\"x\"]\n"
   ]
  },
  {
   "cell_type": "code",
   "execution_count": null,
   "id": "f42c4d3a",
   "metadata": {},
   "outputs": [],
   "source": []
  },
  {
   "cell_type": "code",
   "execution_count": null,
   "id": "eb8343bf",
   "metadata": {},
   "outputs": [],
   "source": [
    "# Quiz 6\n",
    "\n",
    "# 1) code segment one - Serialization\n",
    "    #code segment two - Parsing\n",
    "\n",
    "# 2) list of lists - .csv file\n",
    "    #dictionary of dictionaries - .json file\n",
    "\n",
    "# 3) Strings are written within double quotations.\n",
    "\n",
    "    #Lists are represented by square brackets. \n",
    "    \n",
    "    #Keys must be strings. \n",
    "\n",
    "# 4) value = var2.pop(0)\n",
    "\n",
    "# 5) list\n",
    "\n",
    "    #dictionary\n",
    "\n",
    "# 6)  x must be 1 and y can be any int \n",
    "\n",
    "# 7) \"yellow\" resides in the heap, but favorite_color and bright_color reside in the stack.\n",
    "\n",
    "# 8) In Python, all data types, including int, float, bool, and str, are objects \n",
    "#    Variables reside in stack memory \n",
    "\n",
    "\n",
    "# 9) copy.copy(colors)\n",
    "\n",
    "    #colors\n",
    "\n",
    "\n",
    "# 10) x = [2, [1, 4, 3]]\n",
    "\n",
    "    #y = copy.deepcopy(x)\n",
    "\n",
    "    #y[1].sort()\n",
    "\n",
    "# 11) groceries_copy = groceries - reference copy\n",
    "    #groceries_copy = copy.deepcopy(groceries) - copies all objects at all levels\n",
    "    #groceries_copy = copy.copy(groceries) - shallow copy\n",
    "    #groceries_copy = copy(groceries) - causes an error\n",
    "\n",
    "    \n",
    "# 12) Assignment statements in Python do not copy objects. They only create a reference copy.\n",
    "\n",
    "    #Because deep copy copies everything, it may copy too much, such as data which is intended to be shared between copies.\n",
    "\n",
    "    #A slice of an entire list such as copied_list = original_list[:] creates a new object.\n",
    "\n",
    "# 13) namedtuple('Movie', ['name', 'minutes'])\n"
   ]
  },
  {
   "cell_type": "code",
   "execution_count": null,
   "id": "354f5a46",
   "metadata": {},
   "outputs": [],
   "source": []
  },
  {
   "cell_type": "code",
   "execution_count": 6,
   "id": "4e4fe621",
   "metadata": {},
   "outputs": [
    {
     "data": {
      "text/plain": [
       "30"
      ]
     },
     "execution_count": 6,
     "metadata": {},
     "output_type": "execute_result"
    }
   ],
   "source": [
    "#4\n",
    "\n",
    "var1 = [20, 30, 40]\n",
    "var2 = (20, 30, 40)\n",
    "\n",
    "#value = var1.pop(0)\n",
    "#value = var2.pop(0)\n",
    "#value = var2[0]\n",
    "#value = var1[1]\n",
    "value"
   ]
  },
  {
   "cell_type": "code",
   "execution_count": 26,
   "id": "03387444",
   "metadata": {},
   "outputs": [
    {
     "name": "stdout",
     "output_type": "stream",
     "text": [
      "4 1\n"
     ]
    }
   ],
   "source": [
    "#6\n",
    "\n",
    "fruit_costs = {\"apple\": 1, \"banana\": 2, \"orange\" : 3}\n",
    "dollar_prices = [fruit_costs, 4, 5]\n",
    "\n",
    "def change_price(list):\n",
    "    list_copy = list[:]\n",
    "    list_copy[0][\"apple\"] = 1   #Line with x\n",
    "    list_copy[1] = y            #Line with y\n",
    "\n",
    "change_price(dollar_prices)\n",
    "\n",
    "print(dollar_prices[1], dollar_prices[0][\"apple\"])\n"
   ]
  },
  {
   "cell_type": "code",
   "execution_count": 19,
   "id": "3cde2727",
   "metadata": {},
   "outputs": [
    {
     "name": "stdout",
     "output_type": "stream",
     "text": [
      "[['Red', ['Green']], ['White', ['Orange', 'Black']], ['Yellow']]\n",
      "[['Red'], ['White'], []]\n"
     ]
    }
   ],
   "source": [
    "#9\n",
    "\n",
    "import copy\n",
    "colors = [[\"Red\", [\"Green\"]], [\"White\", [\"Orange\", \"Black\"]], [\"Yellow\"]]\n",
    "colors_copy = [[\"Red\", [\"Green\"]], [\"White\", [\"Orange\", \"Black\"]], [\"Yellow\"]]\n",
    "for i in range(len(colors)):\n",
    "    colors[i].pop()\n",
    "print(colors_copy)\n",
    "print(colors)\n"
   ]
  },
  {
   "cell_type": "code",
   "execution_count": 14,
   "id": "04ac3abc",
   "metadata": {},
   "outputs": [
    {
     "name": "stdout",
     "output_type": "stream",
     "text": [
      "[2, [1, 4, 3]] [2, [1, 3, 4]]\n"
     ]
    }
   ],
   "source": [
    "#10\n",
    "\n",
    "x = [2, [1, 4, 3]]\n",
    "\n",
    "y = copy.deepcopy(x)\n",
    "\n",
    "y[1].sort()\n",
    "\n",
    "print(x, y)\n",
    "#x = [2, [1, 4, 3]], y = [2, [1, 3, 4]] \n"
   ]
  },
  {
   "cell_type": "code",
   "execution_count": 12,
   "id": "2b6eeb38",
   "metadata": {},
   "outputs": [
    {
     "ename": "TypeError",
     "evalue": "'module' object is not callable",
     "output_type": "error",
     "traceback": [
      "\u001b[0;31m---------------------------------------------------------------------------\u001b[0m",
      "\u001b[0;31mTypeError\u001b[0m                                 Traceback (most recent call last)",
      "\u001b[0;32m/var/folders/bp/j6lbgfvx5p14h_sr80tjn08c0000gp/T/ipykernel_49380/2114692025.py\u001b[0m in \u001b[0;36m<module>\u001b[0;34m\u001b[0m\n\u001b[1;32m      8\u001b[0m ]\n\u001b[1;32m      9\u001b[0m \u001b[0;34m\u001b[0m\u001b[0m\n\u001b[0;32m---> 10\u001b[0;31m \u001b[0mgroceries_copy\u001b[0m \u001b[0;34m=\u001b[0m \u001b[0mcopy\u001b[0m\u001b[0;34m(\u001b[0m\u001b[0mgroceries\u001b[0m\u001b[0;34m)\u001b[0m\u001b[0;34m\u001b[0m\u001b[0;34m\u001b[0m\u001b[0m\n\u001b[0m",
      "\u001b[0;31mTypeError\u001b[0m: 'module' object is not callable"
     ]
    }
   ],
   "source": [
    "#11\n",
    "\n",
    "import copy\n",
    "groceries = [\n",
    "     {\"item\":\"milk\", \"price\":1.89},\n",
    "     {\"item\":\"bread\", \"price\":3.99},\n",
    "     {\"item\":\"apples\", \"price\":2.67}\n",
    "]\n",
    "\n",
    "groceries_copy = copy(groceries)\n"
   ]
  },
  {
   "cell_type": "code",
   "execution_count": null,
   "id": "db3b886d",
   "metadata": {},
   "outputs": [],
   "source": []
  },
  {
   "cell_type": "code",
   "execution_count": 27,
   "id": "6b680329",
   "metadata": {},
   "outputs": [
    {
     "name": "stdout",
     "output_type": "stream",
     "text": [
      "The longest movie is Dune at 155 minutes.\n"
     ]
    }
   ],
   "source": [
    "#13\n",
    "\n",
    "from collections import namedtuple\n",
    "Movie = namedtuple('Movie', ['name', 'minutes'])\n",
    "\n",
    "raya = Movie('Raya and the Last Dragon', '148')\n",
    "heights = Movie('In the Heights', '143')\n",
    "dune = Movie('Dune', '155')\n",
    "\n",
    "print(\"The longest movie is\", dune.name, \"at\", dune.minutes, \"minutes.\")"
   ]
  },
  {
   "cell_type": "code",
   "execution_count": null,
   "id": "861d7c2c",
   "metadata": {},
   "outputs": [],
   "source": []
  },
  {
   "cell_type": "code",
   "execution_count": null,
   "id": "dc1b4b01",
   "metadata": {},
   "outputs": [],
   "source": []
  },
  {
   "cell_type": "code",
   "execution_count": null,
   "id": "36adb5bf",
   "metadata": {},
   "outputs": [],
   "source": []
  },
  {
   "cell_type": "code",
   "execution_count": 3,
   "id": "4c1182b0",
   "metadata": {},
   "outputs": [
    {
     "data": {
      "text/plain": [
       "435.41"
      ]
     },
     "execution_count": 3,
     "metadata": {},
     "output_type": "execute_result"
    }
   ],
   "source": [
    "x = 435.4096\n",
    "round(x,2)"
   ]
  },
  {
   "cell_type": "code",
   "execution_count": null,
   "id": "9e4ae8db",
   "metadata": {},
   "outputs": [],
   "source": []
  },
  {
   "cell_type": "code",
   "execution_count": null,
   "id": "781a393c",
   "metadata": {},
   "outputs": [],
   "source": []
  },
  {
   "cell_type": "code",
   "execution_count": null,
   "id": "9c5a8f1d",
   "metadata": {},
   "outputs": [],
   "source": []
  },
  {
   "cell_type": "code",
   "execution_count": null,
   "id": "804e2d21",
   "metadata": {},
   "outputs": [],
   "source": []
  },
  {
   "cell_type": "code",
   "execution_count": 4,
   "id": "164be005",
   "metadata": {},
   "outputs": [
    {
     "name": "stdout",
     "output_type": "stream",
     "text": [
      "50\n"
     ]
    }
   ],
   "source": [
    "class Class:\n",
    "    def __init__(self, var):\n",
    "        self.var = var\n",
    "\n",
    "    @property\n",
    "    def var(self):\n",
    "        return self.__var\n",
    "\n",
    "    @var.setter\n",
    "    def var(self, var):\n",
    "        if var < 0:\n",
    "            self.__var = 0\n",
    "        elif var > 100:\n",
    "            self.__var = 50\n",
    "        else:\n",
    "            self.__var = var\n",
    "            \n",
    "obj = Class(1000)\n",
    "print(obj.var)"
   ]
  },
  {
   "cell_type": "code",
   "execution_count": null,
   "id": "5910b3ff",
   "metadata": {},
   "outputs": [],
   "source": []
  },
  {
   "cell_type": "code",
   "execution_count": 5,
   "id": "1575d3c9",
   "metadata": {},
   "outputs": [
    {
     "name": "stdout",
     "output_type": "stream",
     "text": [
      "3\n"
     ]
    }
   ],
   "source": [
    "myDict = {\"1\": 34, \"key1\": 35, \n",
    "          \"key2\": 55, 1:40,\n",
    "          True: 45, False: 34}\n",
    "\n",
    "counter = 0\n",
    "for k in myDict.keys():\n",
    "    if isinstance(k, str):\n",
    "        counter += 1\n",
    "print(counter)"
   ]
  },
  {
   "cell_type": "code",
   "execution_count": null,
   "id": "34e9e6ee",
   "metadata": {},
   "outputs": [],
   "source": []
  },
  {
   "cell_type": "code",
   "execution_count": null,
   "id": "8efd7201",
   "metadata": {},
   "outputs": [],
   "source": [
    "# Quiz 7\n",
    "\n",
    "# 1) lines 4 and 5\n",
    "\n",
    "# 2) 5\n",
    "\n",
    "# 3) contains(4, [3, 4, 5] )\n",
    "    #contains(7, [3, 4, 5] )\n",
    "\n",
    "# 4) g(x)\n",
    "    #count(x)\n",
    "\n",
    "# 5) 1\n",
    "    #base\n",
    "    #base\n",
    "    #raise_to_power(base, exponent - 1)\n",
    "\n",
    "# 6) sorted(contacts, key = lambda d: d['age'])\n",
    "\n",
    "# 7) sorted(painting_info, key = extract)\n",
    "    #painting_info.sort(key = extract)\n",
    "\n",
    "# 8) dict(sorted(city_coordinate.items(), key = lambda item: item[-1][-1]))\n",
    "\n",
    "# 9) extract_latitude(city_dict)\n",
    "    #city_dict[\"latitude\"]\n",
    "    #city_coordinate.sort(key = extract_latitude)\n",
    "\n",
    "# 10) sorted(info, key = lambda d: d['age'])\n",
    "\n",
    "# 11) f - function\n",
    "    #g - list\n",
    "    #some_val - str\n",
    "    #some_other_val - str\n",
    "\n",
    "# 12) d[\"name\"] : d[\"jersey\"]\n",
    "\n",
    "# 13) [len(s) for s in word_list]\n",
    "\n",
    "# 14) [d['name'] for d in info if d['age'] > 20]\n",
    "\n",
    "# 15) [count_vowels(word) for word in word_list]\n"
   ]
  },
  {
   "cell_type": "code",
   "execution_count": null,
   "id": "66e3bfcf",
   "metadata": {},
   "outputs": [],
   "source": []
  },
  {
   "cell_type": "code",
   "execution_count": 6,
   "id": "14aa6611",
   "metadata": {},
   "outputs": [],
   "source": [
    "#1\n",
    "\n",
    "def some_fun(n):                   # line 1\n",
    "    if n <= 100:                   # line 2\n",
    "        return some_fun(n + 3)     # line 3\n",
    "    else:                          # line 4\n",
    "        return n                   # line 5\n",
    "\n",
    "# Answer: Line 4 & 5"
   ]
  },
  {
   "cell_type": "code",
   "execution_count": 7,
   "id": "d62b015e",
   "metadata": {},
   "outputs": [
    {
     "name": "stdout",
     "output_type": "stream",
     "text": [
      "Completed: CS220 Lab\n",
      "Completed: Laundry\n",
      "Completed: Badger Game\n",
      "Completed: Study\n",
      "Done!\n"
     ]
    }
   ],
   "source": [
    "# 2\n",
    "\n",
    "to_do_list = [\"CS220 Lab\", \"Laundry\", \"Badger Game\", \"Study\"] \n",
    "\n",
    "def to_do_remaining(tasks):                # line 1\n",
    "    if len(tasks) == 0:                    # line 2\n",
    "        print(\"Done!\")                     # line 3\n",
    "        return None                        # line 4\n",
    "    print(\"Completed:\", tasks.pop(0))      # line 5\n",
    "    to_do_remaining(tasks)                 # line 6\n",
    "\n",
    "to_do_remaining(to_do_list)  \n",
    "\n",
    "# Answer: 5"
   ]
  },
  {
   "cell_type": "code",
   "execution_count": 8,
   "id": "9d146ffb",
   "metadata": {},
   "outputs": [],
   "source": [
    "# 3\n",
    "\n",
    "def contains(n, numbers):\n",
    "    for item in numbers:\n",
    "        if type(item) == list:\n",
    "            if contains(n, item):\n",
    "                return True\n",
    "        else:\n",
    "            if n == item:\n",
    "                return True\n",
    "    return False\n",
    "\n"
   ]
  },
  {
   "cell_type": "code",
   "execution_count": null,
   "id": "8787cbe5",
   "metadata": {},
   "outputs": [],
   "source": [
    "# 4\n",
    "\n",
    "# Did visualize using python tutor\n"
   ]
  },
  {
   "cell_type": "code",
   "execution_count": 17,
   "id": "bbedfee5",
   "metadata": {},
   "outputs": [
    {
     "data": {
      "text/plain": [
       "32"
      ]
     },
     "execution_count": 17,
     "metadata": {},
     "output_type": "execute_result"
    }
   ],
   "source": [
    "# 5\n",
    "\n",
    "def raise_to_power(base, exponent):\n",
    "    if exponent == 1:  #base case\n",
    "        return base\n",
    "    else:   #recursive case\n",
    "        return base * raise_to_power(base, exponent - 1)\n",
    "    \n",
    "raise_to_power(2,1)\n",
    "raise_to_power(2,5)\n"
   ]
  },
  {
   "cell_type": "code",
   "execution_count": 27,
   "id": "3200e6f4",
   "metadata": {},
   "outputs": [
    {
     "data": {
      "text/plain": [
       "[{'name': 'Marie', 'phone': '890-2321', 'age': 21},\n",
       " {'name': 'Julie', 'phone': '890-6789', 'age': 23},\n",
       " {'name': 'Lulya', 'phone': '120-0001', 'age': 27}]"
      ]
     },
     "execution_count": 27,
     "metadata": {},
     "output_type": "execute_result"
    }
   ],
   "source": [
    "# 6\n",
    "\n",
    "contacts = [{ \"name\": \"Lulya\", \"phone\": \"120-0001\", \"age\": 27},\n",
    "    { \"name\": \"Marie\", \"phone\": \"890-2321\", \"age\": 21} , \n",
    "            { \"name\": \"Julie\", \"phone\": \"890-6789\", \"age\": 23} ]\n",
    "\n",
    "contacts\n",
    "\n",
    "#dict(sorted(contacts.items(), key = lambda d: d['age']))\n",
    "\n",
    "#sorted(contacts, key = lambda d: return d[2])\n",
    "\n",
    "sorted(contacts, key = lambda d: d['age'])\n",
    "\n",
    "#dict(sorted(contacts.items(), lambda d: d[2]))\n",
    "\n",
    "#dict(sorted(contacts.items(), key = lambda: age ) )\n"
   ]
  },
  {
   "cell_type": "code",
   "execution_count": 105,
   "id": "07ad9718",
   "metadata": {},
   "outputs": [
    {
     "data": {
      "text/plain": [
       "5"
      ]
     },
     "execution_count": 105,
     "metadata": {},
     "output_type": "execute_result"
    }
   ],
   "source": [
    "tuple1 = (\"abc\", 5)\n",
    "tuple2 = (\"efg\", 6)\n",
    "\n",
    "tuple1[0]\n",
    "tuple1[-1]"
   ]
  },
  {
   "cell_type": "code",
   "execution_count": 120,
   "id": "a2c41d5b",
   "metadata": {},
   "outputs": [
    {
     "name": "stdout",
     "output_type": "stream",
     "text": [
      "Original:  [('painting1', 30), ('painting2', 20), ('painting3', 40)]\n",
      "Sorted:  [('painting2', 20), ('painting1', 30), ('painting3', 40)]\n"
     ]
    },
    {
     "data": {
      "text/plain": [
       "[('painting2', 20), ('painting1', 30), ('painting3', 40)]"
      ]
     },
     "execution_count": 120,
     "metadata": {},
     "output_type": "execute_result"
    }
   ],
   "source": [
    "# 7\n",
    "\n",
    "painting_info = [(\"painting1\", 30), (\"painting2\", 20), (\"painting3\", 40)]\n",
    "\n",
    "\n",
    "def extract(s):\n",
    "    return s[-1]\n",
    "\n",
    "print(\"Original: \", painting_info) \n",
    "print(\"Sorted: \", sorted(painting_info, key = extract))\n",
    "\n",
    "sorted(painting_info, key = extract)\n",
    "\n",
    "painting_info.sort(key = extract)\n",
    "#painting_info \n",
    "\n",
    "#painting_info.sort(key = extract())\n",
    "#painting_info  \n",
    "  \n",
    "#sorted(painting_info, extract())\n",
    "  \n",
    "#painting_info.sort(key = extract(painting))\n"
   ]
  },
  {
   "cell_type": "code",
   "execution_count": 97,
   "id": "31bd691f",
   "metadata": {},
   "outputs": [
    {
     "data": {
      "text/plain": [
       "{'New York': [40.7128, 74.006],\n",
       " 'Madison': [43.0722, 89.4008],\n",
       " 'Los Angeles': [34.0522, 118.2437]}"
      ]
     },
     "execution_count": 97,
     "metadata": {},
     "output_type": "execute_result"
    }
   ],
   "source": [
    "# 8\n",
    "\n",
    "city_coordinate = { \"Madison\": [43.0722, 89.4008], \n",
    "                    \"New York\": [40.7128, 74.0060],\n",
    "                    \"Los Angeles\": [34.0522, 118.2437] }\n",
    "\n",
    "city_coordinate\n",
    "\n",
    "#dict(sorted(city_coordinate.items(), key = lambda item: item[0]))\n",
    "  \n",
    "dict(sorted(city_coordinate.items(), key = lambda item: item[-1][-1]))\n",
    "  \n",
    "#dict(sorted(city_coordinate.items(), key = lambda item: item[1][0]))\n",
    "  \n",
    "#dict(sorted(city_coordinate.items(), key = lambda item: item[-1]))\n"
   ]
  },
  {
   "cell_type": "code",
   "execution_count": 143,
   "id": "d88c97de",
   "metadata": {},
   "outputs": [
    {
     "data": {
      "text/plain": [
       "[{'city': 'Los Angeles', 'latitude': 34.0522, 'longitude': 118.2437},\n",
       " {'city': 'New York', 'latitude': 40.7128, 'longitude': 74.006},\n",
       " {'city': 'Madison', 'latitude': 43.0722, 'longitude': 89.4008}]"
      ]
     },
     "execution_count": 143,
     "metadata": {},
     "output_type": "execute_result"
    }
   ],
   "source": [
    "# 9\n",
    "\n",
    "city_coordinate = [{\"city\": \"Madison\", \"latitude\": 43.0722, \"longitude\": 89.4008}, \n",
    "{\"city\": \"New York\", \"latitude\": 40.7128, \"longitude\": 74.0060}, \n",
    "{\"city\": \"Los Angeles\", \"latitude\": 34.0522, \"longitude\": 118.2437}]\n",
    "\n",
    "def extract_latitude(city_dict): \n",
    "    return city_dict[\"latitude\"] \n",
    "\n",
    "city_coordinate.sort(key = extract_latitude)\n",
    "city_coordinate\n",
    "#city_coordinate.sort(key = extract_latitude(city_dict))\n",
    "#city_coordinate.sort(key = extract_latitude())\n"
   ]
  },
  {
   "cell_type": "code",
   "execution_count": 89,
   "id": "d058e584",
   "metadata": {},
   "outputs": [
    {
     "data": {
      "text/plain": [
       "[{'name': 'Ali', 'id': '9081112224', 'GPA': 3.5, 'age': 21},\n",
       " {'name': 'Farzu', 'id': '9081112223', 'GPA': 3.7, 'age': 24},\n",
       " {'name': 'Ashik', 'id': '9081112222', 'GPA': 3.2, 'age': 27},\n",
       " {'name': 'Syed', 'id': '9081112221', 'GPA': 4, 'age': 36}]"
      ]
     },
     "execution_count": 89,
     "metadata": {},
     "output_type": "execute_result"
    }
   ],
   "source": [
    "# 10\n",
    "\n",
    "info = [ { \"name\": \"Syed\", \"id\": \"9081112221\", \"GPA\": 4, \"age\": 36, } ,\n",
    "         { \"name\": \"Ashik\", \"id\": \"9081112222\", \"GPA\": 3.2, \"age\": 27, } , \n",
    "         { \"name\": \"Farzu\", \"id\": \"9081112223\", \"GPA\": 3.7, \"age\": 24, } ,\n",
    "         { \"name\": \"Ali\", \"id\": \"9081112224\", \"GPA\": 3.5, \"age\": 21, } ]\n",
    "\n",
    "info\n",
    "\n",
    "#sorted(info, key = lambda: age)\n",
    "  \n",
    "#dict(sorted(info.items(), lambda d: d[3]))\n",
    "  \n",
    "#sorted(info, key = lambda d: return d[3])\n",
    "  \n",
    "sorted(info, key = lambda d: d['age'])\n",
    "  \n",
    "#dict(sorted(info.items(), key = lambda d: d['age']))\n"
   ]
  },
  {
   "cell_type": "code",
   "execution_count": 134,
   "id": "f936de1c",
   "metadata": {},
   "outputs": [
    {
     "data": {
      "text/plain": [
       "function"
      ]
     },
     "execution_count": 134,
     "metadata": {},
     "output_type": "execute_result"
    }
   ],
   "source": [
    "# 11\n",
    "\n",
    "quiz8 = [\"This\", \"is\", \"the\", \"seventh\", \"quiz\"]\n",
    "\n",
    "def what_quiz():\n",
    "    quiz8[-2] = \"eighth\"\n",
    "    return quiz8\n",
    "\n",
    "f = what_quiz\n",
    "g = f()\n",
    "some_val = quiz8[3][-2:]\n",
    "some_other_val = \" \".join(quiz8)\n",
    "\n",
    "type(f)\n"
   ]
  },
  {
   "cell_type": "code",
   "execution_count": 126,
   "id": "f488e23b",
   "metadata": {},
   "outputs": [
    {
     "data": {
      "text/plain": [
       "{'Alia': 17, 'Brianna': 6, 'Carl': 10}"
      ]
     },
     "execution_count": 126,
     "metadata": {},
     "output_type": "execute_result"
    }
   ],
   "source": [
    "# 12\n",
    "\n",
    "players = [ {\"name\":\"Alia\", \"jersey\":17, \"age\":20},\n",
    "            {\"name\":\"Brianna\", \"jersey\":6, \"age\":19},\n",
    "            {\"name\":\"Carl\", \"jersey\":10, \"age\":21} ]\n",
    "\n",
    "players\n",
    "\n",
    "{d[\"name\"] : d[\"jersey\"] for d in players}\n"
   ]
  },
  {
   "cell_type": "code",
   "execution_count": 81,
   "id": "25074715",
   "metadata": {},
   "outputs": [
    {
     "data": {
      "text/plain": [
       "[4, 5, 1, 5, 3]"
      ]
     },
     "execution_count": 81,
     "metadata": {},
     "output_type": "execute_result"
    }
   ],
   "source": [
    "# 13\n",
    "\n",
    "word_list = ['Keep', 'doing', 'a', 'great', 'job']\n",
    "\n",
    "#The resulting list should be [4, 5, 1, 5, 3]\n",
    "  \n",
    "#[s for len(s) in word_list]\n",
    "  \n",
    "[len(s) for s in word_list]\n",
    "  \n",
    "#{len(s) for s in word_list}\n",
    "  \n",
    "#[s for s in word_list]"
   ]
  },
  {
   "cell_type": "code",
   "execution_count": 76,
   "id": "1bed9987",
   "metadata": {},
   "outputs": [
    {
     "data": {
      "text/plain": [
       "['Ashik', 'Farzu', 'Ali']"
      ]
     },
     "execution_count": 76,
     "metadata": {},
     "output_type": "execute_result"
    }
   ],
   "source": [
    "# 14\n",
    "\n",
    "info = [ { \"name\": \"Syed\", \"id\": \"9081112221\", \"GPA\": 4, \"age\": 19, } ,\n",
    "         { \"name\": \"Ashik\", \"id\": \"9081112222\", \"GPA\": 3.2, \"age\": 21, } , \n",
    "         { \"name\": \"Farzu\", \"id\": \"9081112223\", \"GPA\": 3.7, \"age\": 24, } ,\n",
    "         { \"name\": \"Ali\", \"id\": \"9081112224\", \"GPA\": 3.5, \"age\": 26, } ]\n",
    "\n",
    "info\n",
    "\n",
    "#[name for name in info.items() if age > 20]\n",
    "  \n",
    "[d['name'] for d in info if d['age'] > 20]\n",
    "  \n",
    "#[name for name in info  if age > 20]\n",
    "  \n",
    "#[v['name'] for (k, v) in info.items() if v['age'] > 20]\n"
   ]
  },
  {
   "cell_type": "code",
   "execution_count": 67,
   "id": "ac83795c",
   "metadata": {},
   "outputs": [
    {
     "data": {
      "text/plain": [
       "[2, 2, 1, 2, 1]"
      ]
     },
     "execution_count": 67,
     "metadata": {},
     "output_type": "execute_result"
    }
   ],
   "source": [
    "# 15\n",
    "\n",
    "word_list = [\"Keep\", \"doing\", \"a\", \"great\", \"job\"]\n",
    "\n",
    "def count_vowels(word):\n",
    "    vowels = ['a', 'e', 'i', 'o', 'u']\n",
    "    count = 0\n",
    "\n",
    "    for i in range(len(word)):\n",
    "        letter = word[i].lower()\n",
    "        \n",
    "        if letter in vowels:\n",
    "            count += 1    \n",
    "    return count\n",
    "\n",
    "#count_vowels('keep')\n",
    "\n",
    "#[word for word in word_list]\n",
    "#{count_vowels(word) for word in word_list}\n",
    "[count_vowels(word) for word in word_list]\n",
    "#[word for count_vowels(word) in wordlist]\n",
    "# Output = [2, 2, 1, 2, 1]"
   ]
  },
  {
   "cell_type": "code",
   "execution_count": 51,
   "id": "5f0176e3",
   "metadata": {},
   "outputs": [
    {
     "name": "stdout",
     "output_type": "stream",
     "text": [
      "w\n",
      "o\n",
      "r\n",
      "d\n"
     ]
    },
    {
     "data": {
      "text/plain": [
       "['word']"
      ]
     },
     "execution_count": 51,
     "metadata": {},
     "output_type": "execute_result"
    }
   ],
   "source": [
    "a = \"word\"\n",
    "#b = a.split()\n",
    "for i in range(len(a)):\n",
    "    print(a[i])\n",
    "\n",
    "b"
   ]
  },
  {
   "cell_type": "code",
   "execution_count": null,
   "id": "67dba66b",
   "metadata": {},
   "outputs": [],
   "source": []
  },
  {
   "cell_type": "code",
   "execution_count": null,
   "id": "6384a2c6",
   "metadata": {},
   "outputs": [],
   "source": []
  },
  {
   "cell_type": "code",
   "execution_count": 41,
   "id": "702def82",
   "metadata": {},
   "outputs": [],
   "source": [
    "import requests # We will learn about this today!\n",
    "import json\n",
    "import pandas as pd\n",
    "from pandas import Series, DataFrame"
   ]
  },
  {
   "cell_type": "code",
   "execution_count": null,
   "id": "44016a8c",
   "metadata": {},
   "outputs": [],
   "source": [
    "# Quiz 8\n",
    "\n",
    "# 1) wins - losses\n",
    "    # .iloc[-3]\n",
    "\n",
    "# 2) ages_series[ages_series >= 18] #Yes\n",
    "\n",
    "    # ages_series[pd.Series({\"Mohammed\": False, \"Liz\": False, \"Siti\": True, \"Matt\": True})] #Yes\n",
    "    \n",
    "    #older = ages_series >= 18 #Yes\n",
    "    #ages_series[older]\n",
    "\n",
    "# 3) [[\"Bucks\", \"Timberwolves\"]]\n",
    "    # .sum()\n",
    "\n",
    "# 4) [4]+[6]\n",
    "    #[2,3]\n",
    "\n",
    "# 5) floats\n",
    "    # .loc[2]\n",
    "\n",
    "# 6) df.loc[df[\"Grade\"] == 'A']\n",
    "\n",
    "# 7) df[ (df['Rating'] > 8.0) & (df['Runtime'] > 110) ]\n",
    "\n",
    "# 8) list of dictionaries\n",
    "    #dictionary of lists\n",
    "    #dictionary of dictionaries\n",
    "    #list of lists\n",
    "\n",
    "# 9)  type(df[df[\"Runtime\"] > 120]) - <class 'pandas.core.frame.DataFrame'>\n",
    "    #type(df.iloc[2:,:1]) - <class 'pandas.core.frame.DataFrame'>\n",
    "    #type(df[\"Movie\"]) - <class 'pandas.core.series.Series'>\n",
    "    #type(df.iloc[-1]) - <class 'pandas.core.series.Series'>\n",
    "    #type(df.iloc[3,-2]) - <class 'str'>\n",
    "\n",
    "# 10) df[ df[\"Age\"] == df[\"Age\"].min() ].loc[\"Jill\", \"Lastname\"]\n",
    "    #df[ df[\"Age\"] == df[\"Age\"].min() ].iloc[0, 0]\n",
    "\n",
    "# 11)   url = \"http://www.msyamkumar.com/hello.txttt\" # assume: status_code 404\n",
    "        # r = requests.get(url)\n",
    "        # print(r.text)\n",
    "\n",
    "        # url = \"http://www.msyamkumar.com/hello.txttt\" # assume: status_code 404\n",
    "        # r = requests.get(url)\n",
    "        # r.raise_for_status()\n",
    "        # print(r.text)\n",
    "\n",
    "        # url = \"http://www.msyamkumar.com/hello.txttt\" # assume: status_code 404\n",
    "        # r = requests.get(url)\n",
    "        # assert r.status_code == 200\n",
    "        # print(r.text)\n",
    "\n",
    "# 12) requests\n",
    "    # url\n",
    "    # resp\n",
    "\n",
    "# 13) Line 4 will save the contents of of the URL into a variable.\n",
    "\n",
    "# 14) Line 4 checks whether the request receives a successful response.\n",
    "    #Line 3 sends a get request to \"isitsummeryet.com\" for the contents of the \"answer.txt\" page.\n"
   ]
  },
  {
   "cell_type": "code",
   "execution_count": null,
   "id": "7fdba467",
   "metadata": {},
   "outputs": [],
   "source": []
  },
  {
   "cell_type": "code",
   "execution_count": 7,
   "id": "882be5ee",
   "metadata": {},
   "outputs": [
    {
     "name": "stdout",
     "output_type": "stream",
     "text": [
      "24\n"
     ]
    }
   ],
   "source": [
    "#1\n",
    "\n",
    "import pandas as pd\n",
    "\n",
    "wins = pd.Series({\"Bucks\":47, \"Timberwolves\":48, \"Knicks\":39})\n",
    "losses = pd.Series({\"Bucks\":23, \"Timberwolves\":30, \"Knicks\":40})\n",
    "\n",
    "net_w_v_l = wins - losses\n",
    "\n",
    "print(net_w_v_l.iloc[-3])\n"
   ]
  },
  {
   "cell_type": "code",
   "execution_count": 14,
   "id": "3ec4037d",
   "metadata": {},
   "outputs": [
    {
     "data": {
      "text/plain": [
       "Siti    18\n",
       "Matt    21\n",
       "dtype: int64"
      ]
     },
     "execution_count": 14,
     "metadata": {},
     "output_type": "execute_result"
    }
   ],
   "source": [
    "#2\n",
    "import pandas as pd\n",
    "ages_series = pd.Series({\"Mohammed\": 12, \"Liz\": 16, \"Siti\": 18, \"Matt\": 21})\n",
    "\n",
    "ages_series[ages_series >= 18] #Yes\n",
    "\n",
    "# older = ages_series >= 18   #No\n",
    "# older[ages_series]\n",
    "\n",
    "# older = pd.Series([False, False, True, True]) #No\n",
    "# ages_series[older]\n",
    "\n",
    "ages_series[pd.Series({\"Mohammed\": False, \"Liz\": False, \"Siti\": True, \"Matt\": True})] #Yes\n",
    "\n",
    "#ages_series >= 18 No\n",
    "\n",
    "older = ages_series >= 18 #Yes\n",
    "ages_series[older]\n"
   ]
  },
  {
   "cell_type": "code",
   "execution_count": 16,
   "id": "514998e9",
   "metadata": {},
   "outputs": [
    {
     "name": "stdout",
     "output_type": "stream",
     "text": [
      "Combined Wins: 95\n"
     ]
    }
   ],
   "source": [
    "#3\n",
    "\n",
    "import pandas as pd\n",
    "wins = pd.Series({\"Bucks\":47, \"Timberwolves\":48, \"Knicks\":39})\n",
    "\n",
    "bucks_and_timberwolves = wins[[\"Bucks\", \"Timberwolves\"]]\n",
    "\n",
    "print(\"Combined Wins:\", bucks_and_timberwolves.sum())"
   ]
  },
  {
   "cell_type": "code",
   "execution_count": 24,
   "id": "aa952870",
   "metadata": {},
   "outputs": [
    {
     "data": {
      "text/plain": [
       "0    10\n",
       "1    15\n",
       "dtype: int64"
      ]
     },
     "execution_count": 24,
     "metadata": {},
     "output_type": "execute_result"
    }
   ],
   "source": [
    "#4\n",
    "\n",
    "import pandas as pd\n",
    "#s =  pd.Series([3,5]) * 2\n",
    "s =  pd.Series([4]+[6]) * 2\n",
    "\n",
    "\n",
    "#s = s + pd.Series([4] + [-5])\n",
    "s = s + pd.Series([2,3])\n",
    "\n",
    "s"
   ]
  },
  {
   "cell_type": "code",
   "execution_count": 40,
   "id": "ceea226b",
   "metadata": {},
   "outputs": [
    {
     "data": {
      "text/plain": [
       "25.0"
      ]
     },
     "execution_count": 40,
     "metadata": {},
     "output_type": "execute_result"
    }
   ],
   "source": [
    "#5\n",
    "\n",
    "float_list = [2.30, 4, 25, 1.75, 3.80]\n",
    "floats = pd.Series(float_list)\n",
    "\n",
    "sliced_floats = floats[2:]\n",
    "#sliced_floats = sliced_floats[2:]\n",
    "#sliced_floats = float_list[2:]\n",
    "\n",
    "twenty_five = sliced_floats.loc[2]\n",
    "#twenty_five = sliced_floats.iloc[2]\n",
    "\n",
    "twenty_five\n"
   ]
  },
  {
   "cell_type": "code",
   "execution_count": null,
   "id": "6b11fa04",
   "metadata": {},
   "outputs": [],
   "source": []
  },
  {
   "cell_type": "code",
   "execution_count": 52,
   "id": "6f151d59",
   "metadata": {},
   "outputs": [
    {
     "name": "stdout",
     "output_type": "stream",
     "text": [
      "<class 'pandas.core.frame.DataFrame'>\n",
      "<class 'pandas.core.frame.DataFrame'>\n",
      "<class 'pandas.core.series.Series'>\n",
      "<class 'pandas.core.series.Series'>\n",
      "<class 'str'>\n"
     ]
    }
   ],
   "source": [
    "#9\n",
    "\n",
    "data = [\n",
    "    [\"Crazy Rich Asians\", 121],\n",
    "    [\"Hidden Figures\", 127],\n",
    "    [\"Titanic\", 194],\n",
    "    [\"Lady Bird\", 94]\n",
    "]\n",
    "\n",
    "df = DataFrame(data, columns = [\"Movie\", \"Runtime\"])\n",
    "\n",
    "print(type(df[df[\"Runtime\"] > 120]))\n",
    "print(type(df.iloc[2:,:1]))\n",
    "print(type(df[\"Movie\"]))\n",
    "print(type(df.iloc[-1]))\n",
    "print(type(df.iloc[3,-2]))\n"
   ]
  },
  {
   "cell_type": "code",
   "execution_count": 58,
   "id": "fb9bec04",
   "metadata": {},
   "outputs": [
    {
     "data": {
      "text/plain": [
       "'Smith'"
      ]
     },
     "execution_count": 58,
     "metadata": {},
     "output_type": "execute_result"
    }
   ],
   "source": [
    "#10\n",
    "\n",
    "data = [\n",
    "    [\"Smith\", 50],\n",
    "    [\"Jackson\", 94],\n",
    "    [\"Micheal\", 55]\n",
    "]\n",
    "\n",
    "df = DataFrame(data, columns = [\"Lastname\", \"Age\"], index = [\"Jill\", \"Eve\", \"Amy\"])\n",
    "\n",
    "df\n",
    "\n",
    "#df[ df[\"Age\"] == df[\"Age\"].min() ].loc[\"Lastname\"]\n",
    "  \n",
    "#df[ [ df[\"Age\"] == df[\"Age\"].min() ] [\"Lastname\"] ]\n",
    "  \n",
    "df[ df[\"Age\"] == df[\"Age\"].min() ].loc[\"Jill\", \"Lastname\"]\n",
    "  \n",
    "df[ df[\"Age\"] == df[\"Age\"].min() ].iloc[0, 0]\n"
   ]
  },
  {
   "cell_type": "code",
   "execution_count": null,
   "id": "1c275bed",
   "metadata": {},
   "outputs": [],
   "source": []
  },
  {
   "cell_type": "code",
   "execution_count": null,
   "id": "18b65a9f",
   "metadata": {},
   "outputs": [],
   "source": []
  },
  {
   "cell_type": "code",
   "execution_count": null,
   "id": "9aa12673",
   "metadata": {},
   "outputs": [],
   "source": []
  },
  {
   "cell_type": "code",
   "execution_count": 49,
   "id": "ea7705b3",
   "metadata": {},
   "outputs": [],
   "source": [
    "#11\n",
    "\n",
    "# url = \"http://www.msyamkumar.com/hello.txttt\" # assume: status_code 404\n",
    "# r = requests.get(url)\n",
    "# print(r.text)\n",
    "  \n",
    "# url = \"http://www.msyamkumar.com/hello.txttt\" # assume: status_code 404\n",
    "# r = requests.get(url)\n",
    "# r.raise_for_status()\n",
    "# print(r.text)\n",
    "  \n",
    "# url = \"http://www.msyamkumar.com/hello.txt\" # assume: status_code 200\n",
    "# r = requests.get(url)\n",
    "# r.raise_for_status()\n",
    "# print(r.text)\n",
    "  \n",
    "# url = \"http://www.msyamkumar.com/hello.txttt\" # assume: status_code 404\n",
    "# r = requests.get(url)\n",
    "# assert r.status_code == 200\n",
    "# print(r.text)\n"
   ]
  },
  {
   "cell_type": "code",
   "execution_count": 63,
   "id": "22efb1e9",
   "metadata": {},
   "outputs": [],
   "source": [
    "#12\n",
    " \n",
    "url = \"http://www.msyamkumar.com/hello.txt\" \n",
    "resp = requests.get(url) \n",
    "resp.raise_for_status() \n"
   ]
  },
  {
   "cell_type": "code",
   "execution_count": 66,
   "id": "426be09d",
   "metadata": {},
   "outputs": [
    {
     "ename": "JSONDecodeError",
     "evalue": "Expecting value: line 1 column 1 (char 0)",
     "output_type": "error",
     "traceback": [
      "\u001b[0;31m---------------------------------------------------------------------------\u001b[0m",
      "\u001b[0;31mJSONDecodeError\u001b[0m                           Traceback (most recent call last)",
      "\u001b[0;32m/var/folders/bp/j6lbgfvx5p14h_sr80tjn08c0000gp/T/ipykernel_5493/3559398068.py\u001b[0m in \u001b[0;36m<module>\u001b[0;34m\u001b[0m\n\u001b[1;32m      3\u001b[0m \u001b[0murl\u001b[0m \u001b[0;34m=\u001b[0m \u001b[0;34m\"http://www.msyamkumar.com/hello.txt\"\u001b[0m \u001b[0;31m#line 2\u001b[0m\u001b[0;34m\u001b[0m\u001b[0;34m\u001b[0m\u001b[0m\n\u001b[1;32m      4\u001b[0m \u001b[0mresp\u001b[0m \u001b[0;34m=\u001b[0m \u001b[0mrequests\u001b[0m\u001b[0;34m.\u001b[0m\u001b[0mget\u001b[0m\u001b[0;34m(\u001b[0m\u001b[0murl\u001b[0m\u001b[0;34m)\u001b[0m                           \u001b[0;31m#line 3\u001b[0m\u001b[0;34m\u001b[0m\u001b[0;34m\u001b[0m\u001b[0m\n\u001b[0;32m----> 5\u001b[0;31m \u001b[0mdestinations\u001b[0m \u001b[0;34m=\u001b[0m \u001b[0mresp\u001b[0m\u001b[0;34m.\u001b[0m\u001b[0mjson\u001b[0m\u001b[0;34m(\u001b[0m\u001b[0;34m)\u001b[0m\u001b[0;34m\u001b[0m\u001b[0;34m\u001b[0m\u001b[0m\n\u001b[0m\u001b[1;32m      6\u001b[0m \u001b[0mdestinations\u001b[0m\u001b[0;34m\u001b[0m\u001b[0;34m\u001b[0m\u001b[0m\n",
      "\u001b[0;32m/opt/anaconda3/lib/python3.9/site-packages/requests/models.py\u001b[0m in \u001b[0;36mjson\u001b[0;34m(self, **kwargs)\u001b[0m\n\u001b[1;32m    908\u001b[0m                     \u001b[0;31m# used.\u001b[0m\u001b[0;34m\u001b[0m\u001b[0;34m\u001b[0m\u001b[0m\n\u001b[1;32m    909\u001b[0m                     \u001b[0;32mpass\u001b[0m\u001b[0;34m\u001b[0m\u001b[0;34m\u001b[0m\u001b[0m\n\u001b[0;32m--> 910\u001b[0;31m         \u001b[0;32mreturn\u001b[0m \u001b[0mcomplexjson\u001b[0m\u001b[0;34m.\u001b[0m\u001b[0mloads\u001b[0m\u001b[0;34m(\u001b[0m\u001b[0mself\u001b[0m\u001b[0;34m.\u001b[0m\u001b[0mtext\u001b[0m\u001b[0;34m,\u001b[0m \u001b[0;34m**\u001b[0m\u001b[0mkwargs\u001b[0m\u001b[0;34m)\u001b[0m\u001b[0;34m\u001b[0m\u001b[0;34m\u001b[0m\u001b[0m\n\u001b[0m\u001b[1;32m    911\u001b[0m \u001b[0;34m\u001b[0m\u001b[0m\n\u001b[1;32m    912\u001b[0m     \u001b[0;34m@\u001b[0m\u001b[0mproperty\u001b[0m\u001b[0;34m\u001b[0m\u001b[0;34m\u001b[0m\u001b[0m\n",
      "\u001b[0;32m/opt/anaconda3/lib/python3.9/json/__init__.py\u001b[0m in \u001b[0;36mloads\u001b[0;34m(s, cls, object_hook, parse_float, parse_int, parse_constant, object_pairs_hook, **kw)\u001b[0m\n\u001b[1;32m    344\u001b[0m             \u001b[0mparse_int\u001b[0m \u001b[0;32mis\u001b[0m \u001b[0;32mNone\u001b[0m \u001b[0;32mand\u001b[0m \u001b[0mparse_float\u001b[0m \u001b[0;32mis\u001b[0m \u001b[0;32mNone\u001b[0m \u001b[0;32mand\u001b[0m\u001b[0;34m\u001b[0m\u001b[0;34m\u001b[0m\u001b[0m\n\u001b[1;32m    345\u001b[0m             parse_constant is None and object_pairs_hook is None and not kw):\n\u001b[0;32m--> 346\u001b[0;31m         \u001b[0;32mreturn\u001b[0m \u001b[0m_default_decoder\u001b[0m\u001b[0;34m.\u001b[0m\u001b[0mdecode\u001b[0m\u001b[0;34m(\u001b[0m\u001b[0ms\u001b[0m\u001b[0;34m)\u001b[0m\u001b[0;34m\u001b[0m\u001b[0;34m\u001b[0m\u001b[0m\n\u001b[0m\u001b[1;32m    347\u001b[0m     \u001b[0;32mif\u001b[0m \u001b[0mcls\u001b[0m \u001b[0;32mis\u001b[0m \u001b[0;32mNone\u001b[0m\u001b[0;34m:\u001b[0m\u001b[0;34m\u001b[0m\u001b[0;34m\u001b[0m\u001b[0m\n\u001b[1;32m    348\u001b[0m         \u001b[0mcls\u001b[0m \u001b[0;34m=\u001b[0m \u001b[0mJSONDecoder\u001b[0m\u001b[0;34m\u001b[0m\u001b[0;34m\u001b[0m\u001b[0m\n",
      "\u001b[0;32m/opt/anaconda3/lib/python3.9/json/decoder.py\u001b[0m in \u001b[0;36mdecode\u001b[0;34m(self, s, _w)\u001b[0m\n\u001b[1;32m    335\u001b[0m \u001b[0;34m\u001b[0m\u001b[0m\n\u001b[1;32m    336\u001b[0m         \"\"\"\n\u001b[0;32m--> 337\u001b[0;31m         \u001b[0mobj\u001b[0m\u001b[0;34m,\u001b[0m \u001b[0mend\u001b[0m \u001b[0;34m=\u001b[0m \u001b[0mself\u001b[0m\u001b[0;34m.\u001b[0m\u001b[0mraw_decode\u001b[0m\u001b[0;34m(\u001b[0m\u001b[0ms\u001b[0m\u001b[0;34m,\u001b[0m \u001b[0midx\u001b[0m\u001b[0;34m=\u001b[0m\u001b[0m_w\u001b[0m\u001b[0;34m(\u001b[0m\u001b[0ms\u001b[0m\u001b[0;34m,\u001b[0m \u001b[0;36m0\u001b[0m\u001b[0;34m)\u001b[0m\u001b[0;34m.\u001b[0m\u001b[0mend\u001b[0m\u001b[0;34m(\u001b[0m\u001b[0;34m)\u001b[0m\u001b[0;34m)\u001b[0m\u001b[0;34m\u001b[0m\u001b[0;34m\u001b[0m\u001b[0m\n\u001b[0m\u001b[1;32m    338\u001b[0m         \u001b[0mend\u001b[0m \u001b[0;34m=\u001b[0m \u001b[0m_w\u001b[0m\u001b[0;34m(\u001b[0m\u001b[0ms\u001b[0m\u001b[0;34m,\u001b[0m \u001b[0mend\u001b[0m\u001b[0;34m)\u001b[0m\u001b[0;34m.\u001b[0m\u001b[0mend\u001b[0m\u001b[0;34m(\u001b[0m\u001b[0;34m)\u001b[0m\u001b[0;34m\u001b[0m\u001b[0;34m\u001b[0m\u001b[0m\n\u001b[1;32m    339\u001b[0m         \u001b[0;32mif\u001b[0m \u001b[0mend\u001b[0m \u001b[0;34m!=\u001b[0m \u001b[0mlen\u001b[0m\u001b[0;34m(\u001b[0m\u001b[0ms\u001b[0m\u001b[0;34m)\u001b[0m\u001b[0;34m:\u001b[0m\u001b[0;34m\u001b[0m\u001b[0;34m\u001b[0m\u001b[0m\n",
      "\u001b[0;32m/opt/anaconda3/lib/python3.9/json/decoder.py\u001b[0m in \u001b[0;36mraw_decode\u001b[0;34m(self, s, idx)\u001b[0m\n\u001b[1;32m    353\u001b[0m             \u001b[0mobj\u001b[0m\u001b[0;34m,\u001b[0m \u001b[0mend\u001b[0m \u001b[0;34m=\u001b[0m \u001b[0mself\u001b[0m\u001b[0;34m.\u001b[0m\u001b[0mscan_once\u001b[0m\u001b[0;34m(\u001b[0m\u001b[0ms\u001b[0m\u001b[0;34m,\u001b[0m \u001b[0midx\u001b[0m\u001b[0;34m)\u001b[0m\u001b[0;34m\u001b[0m\u001b[0;34m\u001b[0m\u001b[0m\n\u001b[1;32m    354\u001b[0m         \u001b[0;32mexcept\u001b[0m \u001b[0mStopIteration\u001b[0m \u001b[0;32mas\u001b[0m \u001b[0merr\u001b[0m\u001b[0;34m:\u001b[0m\u001b[0;34m\u001b[0m\u001b[0;34m\u001b[0m\u001b[0m\n\u001b[0;32m--> 355\u001b[0;31m             \u001b[0;32mraise\u001b[0m \u001b[0mJSONDecodeError\u001b[0m\u001b[0;34m(\u001b[0m\u001b[0;34m\"Expecting value\"\u001b[0m\u001b[0;34m,\u001b[0m \u001b[0ms\u001b[0m\u001b[0;34m,\u001b[0m \u001b[0merr\u001b[0m\u001b[0;34m.\u001b[0m\u001b[0mvalue\u001b[0m\u001b[0;34m)\u001b[0m \u001b[0;32mfrom\u001b[0m \u001b[0;32mNone\u001b[0m\u001b[0;34m\u001b[0m\u001b[0;34m\u001b[0m\u001b[0m\n\u001b[0m\u001b[1;32m    356\u001b[0m         \u001b[0;32mreturn\u001b[0m \u001b[0mobj\u001b[0m\u001b[0;34m,\u001b[0m \u001b[0mend\u001b[0m\u001b[0;34m\u001b[0m\u001b[0;34m\u001b[0m\u001b[0m\n",
      "\u001b[0;31mJSONDecodeError\u001b[0m: Expecting value: line 1 column 1 (char 0)"
     ]
    }
   ],
   "source": [
    "#13\n",
    "\n",
    "url = \"http://www.msyamkumar.com/hello.txt\" #line 2\n",
    "resp = requests.get(url)                           #line 3\n",
    "destinations = resp.json()\n",
    "destinations"
   ]
  },
  {
   "cell_type": "code",
   "execution_count": null,
   "id": "c7429a1c",
   "metadata": {},
   "outputs": [],
   "source": []
  },
  {
   "cell_type": "code",
   "execution_count": null,
   "id": "6564968b",
   "metadata": {},
   "outputs": [],
   "source": []
  },
  {
   "cell_type": "code",
   "execution_count": null,
   "id": "4c49cc8f",
   "metadata": {},
   "outputs": [],
   "source": []
  },
  {
   "cell_type": "code",
   "execution_count": null,
   "id": "c44384c2",
   "metadata": {},
   "outputs": [],
   "source": []
  },
  {
   "cell_type": "code",
   "execution_count": null,
   "id": "536e05d0",
   "metadata": {},
   "outputs": [],
   "source": []
  },
  {
   "cell_type": "code",
   "execution_count": null,
   "id": "f77bbf53",
   "metadata": {},
   "outputs": [],
   "source": [
    "# Quiz 9\n",
    "\n",
    "# 1) assert b.find(\"ul\") != None\n",
    "    #assert len(b.find_all(\"ul\")) > 0\n",
    "\n",
    "# 2) From a response to a requests.get()\n",
    "    #A hardcoded string\n",
    "    #A local file\n",
    "\n",
    "# 3) child elements\n",
    "    #text\n",
    "    #attributes\n",
    "\n",
    "# 4) **option1** - doc.find_all(\"li\")\n",
    "    #**option2** - e.find(\"b\") != None\n",
    "    #**option3** - item.get_text()\n",
    "\n",
    "\n",
    "# 5) A single bold element\n",
    "    #None\n",
    "\n",
    "# 6) A dictionary\n",
    "\n",
    "# 7) Each value is a string - CSV\n",
    "    #Columns sometimes named - CSV\n",
    "    #Types per column (enforced) - SQL Database\n",
    "    #Collection of tables, each named  - SQL Database\n",
    "\n",
    "\n",
    "# 8) SELECT  - Score\n",
    "    #FROM Student\n",
    "    #WHERE CourseID = ‘CS220’\n",
    "    #ORDER BY Score DESC \n",
    "    #LIMIT 1\n",
    "\n",
    "\n",
    "# 9) How many students have ever taken 'CS220'?\n",
    "    #What is the average score of students for each course?\n",
    "    #How many students have ever scored more than 85?\n",
    "  \n",
    "  \n",
    "\n",
    "# 10) html = \"<ul>\\n\"\n",
    "    #for college in big10:\n",
    "    #    html = html + \" <li>\" + college + \"</li>\\n\"\n",
    "    #html = html + \"</ul>\\n\"\n",
    "\n",
    "# 11) <table> \n",
    "#  <tr>\n",
    "#    <td>1</td> \n",
    "#    <td>2</td> \n",
    "#  </tr> \n",
    "#  <tr>\n",
    "#    <td>3</td> \n",
    "#    <td>4</td> \n",
    "#  </tr>\n",
    "#  <tr>\n",
    "#    <td>5</td>\n",
    "#    <td>6</td>\n",
    "#  </tr> \n",
    "#</table> \n",
    "\n",
    "# 12) <li>\n",
    "    #<td>"
   ]
  },
  {
   "cell_type": "code",
   "execution_count": null,
   "id": "218b31bb",
   "metadata": {},
   "outputs": [],
   "source": []
  },
  {
   "cell_type": "code",
   "execution_count": 9,
   "id": "2e22e543",
   "metadata": {},
   "outputs": [
    {
     "ename": "AssertionError",
     "evalue": "",
     "output_type": "error",
     "traceback": [
      "\u001b[0;31m---------------------------------------------------------------------------\u001b[0m",
      "\u001b[0;31mAssertionError\u001b[0m                            Traceback (most recent call last)",
      "\u001b[0;32m/var/folders/bp/j6lbgfvx5p14h_sr80tjn08c0000gp/T/ipykernel_20741/977621139.py\u001b[0m in \u001b[0;36m<module>\u001b[0;34m\u001b[0m\n\u001b[1;32m     11\u001b[0m \u001b[0;32massert\u001b[0m \u001b[0mlen\u001b[0m\u001b[0;34m(\u001b[0m\u001b[0mb\u001b[0m\u001b[0;34m.\u001b[0m\u001b[0mfind_all\u001b[0m\u001b[0;34m(\u001b[0m\u001b[0;34m\"ul\"\u001b[0m\u001b[0;34m)\u001b[0m\u001b[0;34m)\u001b[0m \u001b[0;34m>\u001b[0m \u001b[0;36m0\u001b[0m\u001b[0;34m\u001b[0m\u001b[0;34m\u001b[0m\u001b[0m\n\u001b[1;32m     12\u001b[0m \u001b[0;34m\u001b[0m\u001b[0m\n\u001b[0;32m---> 13\u001b[0;31m \u001b[0;32massert\u001b[0m \u001b[0mb\u001b[0m\u001b[0;34m.\u001b[0m\u001b[0mfind\u001b[0m\u001b[0;34m(\u001b[0m\u001b[0;34m\"ul\"\u001b[0m\u001b[0;34m)\u001b[0m \u001b[0;34m==\u001b[0m \u001b[0;32mNone\u001b[0m\u001b[0;34m\u001b[0m\u001b[0;34m\u001b[0m\u001b[0m\n\u001b[0m",
      "\u001b[0;31mAssertionError\u001b[0m: "
     ]
    }
   ],
   "source": [
    "#1\n",
    "\n",
    "from bs4 import BeautifulSoup\n",
    "html = \"<b>To Do List</b><ul><li>Eat Healthy</li><li>Sleep <b>More</b></li><li>Exercise</li></ul>\" # is a string that contains html\n",
    "b = BeautifulSoup(html, 'html.parser')\n",
    "\n",
    "#assert len(b.find_all(\"ul\")) == 0\n",
    "\n",
    "assert b.find(\"ul\") != None\n",
    "\n",
    "assert len(b.find_all(\"ul\")) > 0\n",
    "\n",
    "#assert b.find(\"ul\") == None\n"
   ]
  },
  {
   "cell_type": "code",
   "execution_count": 24,
   "id": "6750b787",
   "metadata": {},
   "outputs": [
    {
     "name": "stdout",
     "output_type": "stream",
     "text": [
      "y\n",
      "z\n"
     ]
    }
   ],
   "source": [
    "#4\n",
    "\n",
    "from bs4 import BeautifulSoup\n",
    "html = \"<h3><b>Items</b></h3><ul><li>x</li><li><b>y</b></li><li><b>z</b></li></ul>\"\n",
    "doc = BeautifulSoup(html, \"html.parser\")\n",
    "elements = doc.find_all(\"li\")\n",
    " #get all list items\n",
    "\n",
    "#print(elements)\n",
    "bold_elements = []\n",
    "for e in elements:\n",
    "    #print(e)\n",
    "    if e.find(\"b\") != None: #checks if the list element e is bolded\n",
    "        bold_elements.append(e)\n",
    "for item in bold_elements:\n",
    "     print(item.get_text())\n",
    "      "
   ]
  },
  {
   "cell_type": "code",
   "execution_count": 31,
   "id": "9a3575a3",
   "metadata": {},
   "outputs": [
    {
     "data": {
      "text/plain": [
       "<b>Items</b>"
      ]
     },
     "execution_count": 31,
     "metadata": {},
     "output_type": "execute_result"
    }
   ],
   "source": [
    "#5\n",
    "\n",
    "html = \"<h3><b>Items</b><b>Items2</b></h3><ul><li>x</li><li><b>y</b></li><li><b>z</b></li></ul>\" # is a string that contains html\n",
    "doc = BeautifulSoup(html, \"html.parser\") \n",
    "bold = doc.find(\"b\")\n",
    "\n",
    "bold\n"
   ]
  },
  {
   "cell_type": "code",
   "execution_count": 43,
   "id": "64eeb556",
   "metadata": {},
   "outputs": [
    {
     "ename": "AttributeError",
     "evalue": "'list' object has no attribute 'open'",
     "output_type": "error",
     "traceback": [
      "\u001b[0;31m---------------------------------------------------------------------------\u001b[0m",
      "\u001b[0;31mAttributeError\u001b[0m                            Traceback (most recent call last)",
      "\u001b[0;32m/var/folders/bp/j6lbgfvx5p14h_sr80tjn08c0000gp/T/ipykernel_20741/2159822672.py\u001b[0m in \u001b[0;36m<module>\u001b[0;34m\u001b[0m\n\u001b[1;32m      5\u001b[0m \u001b[0mfiles\u001b[0m \u001b[0;34m=\u001b[0m \u001b[0;34m[\u001b[0m\u001b[0mfile\u001b[0m \u001b[0;32mfor\u001b[0m \u001b[0mfile\u001b[0m \u001b[0;32min\u001b[0m \u001b[0mfiles\u001b[0m \u001b[0;32mif\u001b[0m \u001b[0mfile\u001b[0m\u001b[0;34m[\u001b[0m\u001b[0;34m-\u001b[0m\u001b[0;36m4\u001b[0m\u001b[0;34m:\u001b[0m\u001b[0;34m]\u001b[0m \u001b[0;34m==\u001b[0m \u001b[0;34m\"html\"\u001b[0m\u001b[0;34m]\u001b[0m\u001b[0;34m\u001b[0m\u001b[0;34m\u001b[0m\u001b[0m\n\u001b[1;32m      6\u001b[0m \u001b[0;34m\u001b[0m\u001b[0m\n\u001b[0;32m----> 7\u001b[0;31m \u001b[0mfiles\u001b[0m\u001b[0;34m.\u001b[0m\u001b[0mopen\u001b[0m\u001b[0;34m(\u001b[0m\u001b[0;34m)\u001b[0m\u001b[0;34m\u001b[0m\u001b[0;34m\u001b[0m\u001b[0m\n\u001b[0m",
      "\u001b[0;31mAttributeError\u001b[0m: 'list' object has no attribute 'open'"
     ]
    }
   ],
   "source": [
    "#3\n",
    "\n",
    "import os\n",
    "files = os.listdir(\".\")\n",
    "files = [file for file in files if file[-4:] == \"html\"]\n",
    "\n",
    "files.open()\n"
   ]
  },
  {
   "cell_type": "code",
   "execution_count": 33,
   "id": "5574a04f",
   "metadata": {},
   "outputs": [
    {
     "data": {
      "text/plain": [
       "dict"
      ]
     },
     "execution_count": 33,
     "metadata": {},
     "output_type": "execute_result"
    }
   ],
   "source": [
    "#6\n",
    "\n",
    "from bs4 import BeautifulSoup\n",
    "html = '<a href=\"quiz.html\"><b>this</b>is<i>quiz11</i></a>'\n",
    "doc = BeautifulSoup(html, \"html.parser\")\n",
    "link = doc.find(\"a\")\n",
    "\n",
    "type(link.attrs)\n",
    "\n"
   ]
  },
  {
   "cell_type": "code",
   "execution_count": 47,
   "id": "95c06caf",
   "metadata": {},
   "outputs": [
    {
     "data": {
      "text/plain": [
       "'<ul>\\n <li>Indiana</li>\\n <li>Maryland</li>\\n <li>Michigan</li>\\n <li>Michigan State</li>\\n <li>Ohio State</li>\\n <li>Penn State</li>\\n <li>Rutgers</li>\\n <li>Illinois</li>\\n <li>Iowa</li>\\n <li>Minnesota</li>\\n <li>Nebraska</li>\\n <li>Northwesatern</li>\\n <li>Purdue</li>\\n <li>Wisconsin</li>\\n</ul>\\n'"
      ]
     },
     "execution_count": 47,
     "metadata": {},
     "output_type": "execute_result"
    }
   ],
   "source": [
    "#10\n",
    "\n",
    "big10 = [\"Indiana\", \"Maryland\", \"Michigan\", \"Michigan State\", \"Ohio State\", \"Penn State\", \\\n",
    "         \"Rutgers\", \"Illinois\", \"Iowa\", \"Minnesota\", \"Nebraska\", \"Northwesatern\", \"Purdue\", \"Wisconsin\"]\n",
    "big10\n",
    "\n",
    "\n",
    "html = \"<ul>\\n\"\n",
    "\n",
    "for college in big10:\n",
    "\n",
    "    html = html + \" <li>\" + college + \"</li>\\n\"\n",
    "\n",
    "html = html + \"</ul>\\n\"\n",
    "\n",
    "html\n"
   ]
  },
  {
   "cell_type": "code",
   "execution_count": null,
   "id": "a301d0c3",
   "metadata": {},
   "outputs": [],
   "source": []
  },
  {
   "cell_type": "code",
   "execution_count": 53,
   "id": "7b2a6acf",
   "metadata": {},
   "outputs": [
    {
     "data": {
      "text/plain": [
       "<table>\n",
       "<tr>\n",
       "<td>1</td>\n",
       "<td>2</td>\n",
       "<tr>\n",
       "<td>3</td>\n",
       "<td>4</td>\n",
       "<tr>\n",
       "<td>5</td>\n",
       "<td>6</td>\n",
       "&lt;/table</tr></tr></tr></table>"
      ]
     },
     "execution_count": 53,
     "metadata": {},
     "output_type": "execute_result"
    }
   ],
   "source": [
    "#\n",
    "html = '''<table> \n",
    "    <tr>\n",
    "        <td>1</td> \n",
    "        <td>2</td> \n",
    "    <tr>\n",
    "        <td>3</td> \n",
    "        <td>4</td> \n",
    "    <tr>\n",
    "        <td>5</td>\n",
    "        <td>6</td>\n",
    "</table'''\n",
    "\n",
    "\n",
    "\n",
    "b = BeautifulSoup(html, 'html.parser')\n",
    "b"
   ]
  },
  {
   "cell_type": "code",
   "execution_count": null,
   "id": "830aa927",
   "metadata": {},
   "outputs": [],
   "source": []
  },
  {
   "cell_type": "code",
   "execution_count": null,
   "id": "9dd273ba",
   "metadata": {},
   "outputs": [],
   "source": [
    "# Quiz 10\n",
    "\n",
    "# 1) Answer 1: AVG(exam2) AS avg_exam2, lecture \n",
    "    #Answer 2: grades \n",
    "    #Answer 3: exam1 > 27 \n",
    "    #Answer 4: lecture \n",
    "\n",
    "# 2) SELECT year, AVG(score) AS avg_score \n",
    "    #FROM student \n",
    "    #WHERE mode == \"online\"\n",
    "    #GROUP BY year \n",
    "    #HAVING avg_score > 90\n",
    "\n",
    "    #SELECT year, SUM(score)/COUNT(score) AS avg_score \n",
    "    #FROM student \n",
    "    #WHERE mode == \"online\"\n",
    "    #GROUP BY year \n",
    "    #HAVING avg_score > 90\n",
    "\n",
    "# 3) Answer 1: location, COUNT(*) AS count \n",
    "    #Answer 2: WHERE students > 300 \n",
    "    #Answer 3: GROUP BY location HAVING count > 1 \n",
    "\n",
    "# 4) SQL query must include a FROM clause\n",
    "    #The AS keyword allows a column or calculation to appear with a different name\n",
    "\n",
    "# 5) companies.sort_values(\"employees\", ascending = False)[\"name\"]\n",
    "\n",
    "# 6) updated_inventory = df[\"count\"].iloc[:3]\n",
    "    #other = df[\"count\"].iloc[3:].sum()\n",
    "    #updated_inventory[\"other\"] = other\n",
    "    #updated_inventory.plot.bar()\n",
    "\n",
    "\n",
    "# 7) df = df.set_index('Route')\n",
    "    #s = df['Weekly_Distance']\n",
    "    #s.plot.bar()\n",
    "\n",
    "\n",
    "# 8) matplotlib.rcParams[\"font.size\"] = 20\n",
    "\n",
    "# 9) qry = \"\"\"\n",
    "    #SELECT     COUNT(StudentID)\n",
    "    #FROM Student            \n",
    "    #WHERE      SectionNo = 822 and Semester = 'S-2021' \n",
    "    #\"\"\"\n",
    "\n",
    "# 10) 3\n",
    "\n",
    "# 11) list(pd.read_sql(\"\"\"\n",
    "    #SELECT Day\n",
    "    #FROM temps\n",
    "    #WHERE High <= 0 AND Low <= 0\"\"\", conn) [\"Day\"])\n",
    "\n",
    "# 12) Both the first and second expression are correct\n",
    "\n",
    "# 13) AB\n",
    "\n",
    "# 14) No\n"
   ]
  },
  {
   "cell_type": "code",
   "execution_count": null,
   "id": "405b0361",
   "metadata": {},
   "outputs": [],
   "source": []
  },
  {
   "cell_type": "code",
   "execution_count": null,
   "id": "e5f069bb",
   "metadata": {},
   "outputs": [],
   "source": [
    "'''\n",
    "SELECT AVG(exam2) AS avg_exam2, lecture\n",
    "FROM grades\n",
    "WHERE exam1 > 27\n",
    "GROUP BY lecture\n",
    "'''"
   ]
  },
  {
   "cell_type": "code",
   "execution_count": null,
   "id": "ebf09747",
   "metadata": {},
   "outputs": [],
   "source": []
  },
  {
   "cell_type": "code",
   "execution_count": null,
   "id": "84672094",
   "metadata": {},
   "outputs": [],
   "source": []
  },
  {
   "cell_type": "code",
   "execution_count": null,
   "id": "f059de13",
   "metadata": {},
   "outputs": [],
   "source": []
  },
  {
   "cell_type": "code",
   "execution_count": null,
   "id": "e981bb95",
   "metadata": {},
   "outputs": [],
   "source": []
  },
  {
   "cell_type": "code",
   "execution_count": null,
   "id": "e9c60776",
   "metadata": {},
   "outputs": [],
   "source": [
    "#6\n",
    "updated_inventory = df[\"count\"]\n",
    ".iloc[:4]\n",
    "\n",
    "\n",
    "other = df[\"count\"]\n",
    ".iloc[4:].sum()\n",
    "\n",
    "\n",
    "updated_inventory[\"other\"] = \n",
    "other\n",
    "\n",
    "\n",
    "updated_inventory\n",
    ".plot.bar()\n"
   ]
  },
  {
   "cell_type": "code",
   "execution_count": 19,
   "id": "fc65c7bf",
   "metadata": {},
   "outputs": [
    {
     "data": {
      "text/plain": [
       "<AxesSubplot:xlabel='Route'>"
      ]
     },
     "execution_count": 19,
     "metadata": {},
     "output_type": "execute_result"
    },
    {
     "data": {
      "image/png": "[encoded data removed]",
      "text/plain": [
       "<Figure size 432x288 with 1 Axes>"
      ]
     },
     "metadata": {
      "needs_background": "light"
     },
     "output_type": "display_data"
    }
   ],
   "source": [
    "#7\n",
    "\n",
    "import pandas as pd\n",
    "import matplotlib\n",
    "\n",
    "# Route = pd.Series([80,82,84,86])\n",
    "# Weekly_Distance = pd.Series([1134.2, 1234, 3345.3, 868.9])\n",
    "\n",
    "df = pd.DataFrame({'Route': [80,82,84,86] , 'Weekly_Distance': [1134.2, 1234, 3345.3, 868.9]})\n",
    "df\n",
    "\n",
    "df = df.set_index('Route')\n",
    "s = df['Weekly_Distance']\n",
    "s.plot.bar()\n",
    "\n"
   ]
  },
  {
   "cell_type": "code",
   "execution_count": null,
   "id": "81766d27",
   "metadata": {},
   "outputs": [],
   "source": []
  },
  {
   "cell_type": "code",
   "execution_count": null,
   "id": "d9daefd3",
   "metadata": {},
   "outputs": [],
   "source": []
  },
  {
   "cell_type": "code",
   "execution_count": null,
   "id": "9dbbc00c",
   "metadata": {},
   "outputs": [],
   "source": [
    "#9\n",
    "\n",
    "qry = \"\"\"\n",
    "SELECT COUNT(StudentID)\n",
    "FROM Student            \n",
    "WHERE SectionNo = 822 and Semester = 'S-2021'\n",
    "\"\"\"\n"
   ]
  },
  {
   "cell_type": "code",
   "execution_count": null,
   "id": "bf4d0c64",
   "metadata": {},
   "outputs": [],
   "source": []
  },
  {
   "cell_type": "code",
   "execution_count": null,
   "id": "882f17fa",
   "metadata": {},
   "outputs": [],
   "source": [
    "#11\n",
    "\n",
    "Day\tHigh\tLow\n",
    "Sunday\t6\t-3\n",
    "Monday\t-2\t-9\n",
    "Tuesday\t-3\t-6\n",
    "Wednesday\t-1\t-6\n",
    "Thursday\t2\t-2\n",
    "Friday\t3\t-2\n",
    "Saturday\t2\t-4\n",
    "\n",
    "list(pd.read_sql(\"\"\"SELECT Day\n",
    "FROM temps\n",
    "WHERE High <= 0 AND Low <= 0\"\"\", conn) [\"Day\"])\n",
    "\n",
    "subfreezing = list(temps[(temps['High'] <= 0) & (temps['Low'] <= 0)]['Day'])"
   ]
  },
  {
   "cell_type": "code",
   "execution_count": null,
   "id": "4e4ab122",
   "metadata": {},
   "outputs": [],
   "source": [
    "#12\n",
    "\n",
    "\n",
    "City = []\tState\tPopulation\n",
    "Madison\tWisconsin\t254,977\n",
    "Chicago\tIllinois\t2,710,000\n",
    "New York\tNew York\t8,419,000\n",
    "Orlando\tFlorida\t280,832\n",
    "Milwaukee\tWisconsin\t594,548\n",
    "Miami\tFlorida\t454,279\n",
    "Springfield\tIllinois\t115,888\n",
    "San Francisco\tCalifornia\t874,961\n",
    "\n",
    "\n",
    "# first expression\n",
    "pd.read_sql(\"SELECT City, State FROM populations WHERE Population < 700000\", conn)\n",
    "# second expression\n",
    "populations[populations['Population'] < 700000][['City', 'State']]"
   ]
  }
 ],
 "metadata": {
  "kernelspec": {
   "display_name": "Python 3 (ipykernel)",
   "language": "python",
   "name": "python3"
  },
  "language_info": {
   "codemirror_mode": {
    "name": "ipython",
    "version": 3
   },
   "file_extension": ".py",
   "mimetype": "text/x-python",
   "name": "python",
   "nbconvert_exporter": "python",
   "pygments_lexer": "ipython3",
   "version": "3.9.7"
  }
 },
 "nbformat": 4,
 "nbformat_minor": 5
}
